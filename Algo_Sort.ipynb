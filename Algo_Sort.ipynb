{
  "nbformat": 4,
  "nbformat_minor": 0,
  "metadata": {
    "colab": {
      "name": "Algo_Sort.ipynb",
      "provenance": [],
      "collapsed_sections": [],
      "authorship_tag": "ABX9TyMNoIEbs/dwULaGNr2VoH9t",
      "include_colab_link": true
    },
    "kernelspec": {
      "name": "python3",
      "display_name": "Python 3"
    }
  },
  "cells": [
    {
      "cell_type": "markdown",
      "metadata": {
        "id": "view-in-github",
        "colab_type": "text"
      },
      "source": [
        "<a href=\"https://colab.research.google.com/github/gkrry2723/algorithm_s/blob/master/Algo_Sort.ipynb\" target=\"_parent\"><img src=\"https://colab.research.google.com/assets/colab-badge.svg\" alt=\"Open In Colab\"/></a>"
      ]
    },
    {
      "cell_type": "markdown",
      "metadata": {
        "id": "8ZSNhqhSJvZE"
      },
      "source": [
        "# **ALGORITHM - SORT 공부**\n",
        "\n",
        "정렬 알고리즘 종류\n",
        "- selection sort\n",
        "- bubble sort\n",
        "- insertion sort\n",
        "  \n",
        "  --> simple, slow\n",
        "\n",
        "- quick sort\n",
        "- merge sort\n",
        "- heap sort\n",
        "\n",
        " --> fast\n",
        "\n",
        "- radix sort \n",
        "\n",
        " --> 근본적으로 다름. O(n)"
      ]
    },
    {
      "cell_type": "markdown",
      "metadata": {
        "id": "-fpmk_Q2PEPL"
      },
      "source": [
        "**1. Selection Sort**\n",
        "- 각 루프마다\n",
        "  - 최대 원소를 찾는다\n",
        "  - 최대 원소와 맨 오른쪽 원소를 교환한다.\n",
        "  - 맨 오른쪽 원소를 제외한다.\n",
        "- 하나의 원소만 남을 때 까지 반복!\n",
        "\n",
        "\n",
        "--> 실행시간: max를 찾는 작업-> n-1, n-2, n-3 .... 그러므로 O(n^2)"
      ]
    },
    {
      "cell_type": "code",
      "metadata": {
        "colab": {
          "base_uri": "https://localhost:8080/"
        },
        "id": "7m5oJrDaPSRO",
        "outputId": "3c114040-8b3d-4451-c92a-b11e6ad44de0"
      },
      "source": [
        "def selectionS(arr,N):\n",
        "  if N == 1:\n",
        "    return\n",
        "  else:\n",
        "    i = arr.index(max(arr[:N]))\n",
        "\n",
        "    tmp = arr[N-1]\n",
        "    arr[N-1] = arr[i]\n",
        "    arr[i] = tmp\n",
        "\n",
        "    selectionS(arr,N-1)\n",
        "\n",
        "\n",
        "arr = [5,7,3,2,10,9,1]\n",
        "N = len(arr)\n",
        "\n",
        "selectionS(arr,N)\n",
        "\n",
        "print(arr)"
      ],
      "execution_count": 24,
      "outputs": [
        {
          "output_type": "stream",
          "text": [
            "[1, 2, 3, 5, 7, 9, 10]\n"
          ],
          "name": "stdout"
        }
      ]
    },
    {
      "cell_type": "markdown",
      "metadata": {
        "id": "iGcfENuoWCME"
      },
      "source": [
        "**2.  Bubble Sort**\n",
        "\n",
        " -> 최댓값을 찾아서 끝에 두고 그 앞에서 또 찾아서 ... 이런건 selection sort와 동일하지만 최댓값을 찾는 과정이 조금 다름!\n",
        "\n",
        " - 맨 앞부터, 나와 그 다음 원소 크기를 비교하여 큰것이 뒤로가게 자리를 바꿈\n",
        " - 끝까지 반복\n",
        " - 맨뒤에 있는 수 제외 앞에서부터 다시 반복\n",
        "\n",
        "--> 바꾸는 실행을 n-1 + n-2 + ... + 2 + 1 이렇게 하므로 O(n^2)"
      ]
    },
    {
      "cell_type": "code",
      "metadata": {
        "colab": {
          "base_uri": "https://localhost:8080/"
        },
        "id": "zSgPda7vWjwg",
        "outputId": "a66ca2dd-6780-426c-a93c-2d2966f04eae"
      },
      "source": [
        "def bubbleS(arr,N):\n",
        "  if N == 1:\n",
        "    return\n",
        "  else:\n",
        "    for i in range(N-1):\n",
        "      if arr[i] > arr[i+1]:\n",
        "        tmp = arr[i]\n",
        "        arr[i] = arr[i+1]\n",
        "        arr[i+1] = tmp\n",
        "    bubbleS(arr,N-1)\n",
        "\n",
        "\n",
        "arr = [5,7,3,2,10,9,1]\n",
        "N = len(arr)\n",
        "\n",
        "bubbleS(arr,N)\n",
        "\n",
        "print(arr)"
      ],
      "execution_count": 26,
      "outputs": [
        {
          "output_type": "stream",
          "text": [
            "[1, 2, 3, 5, 7, 9, 10]\n"
          ],
          "name": "stdout"
        }
      ]
    },
    {
      "cell_type": "markdown",
      "metadata": {
        "id": "sULnjEJjYlAu"
      },
      "source": [
        "**3. Insertion Sort**\n",
        "\n",
        "- 맨 앞 원소부터 개수를 한개씩 늘려가며 정렬\n",
        "- 처음에는 맨앞 1개만 정렬(그대로)\n",
        "- 다음: 정렬된 맨앞 1개와 그 다음 친구를 정렬\n",
        "- 다음: 정렬된 맨앞 2개와 그 다음 친구를 정렬\n",
        "- 위를 끝까지 반복함\n",
        "  - 여기서 정렬하는 방법: 그 다음 친구가 들어갈 수 있는 방법\n",
        "  - 정렬된 맨 뒤부터 insertion 원소와 비교(뒤에는 뒤로 밀수 있기 때문. 하지만 앞에서부터 하면 비교도 하고 뒤에애들도 밀어야함...)\n",
        "  - 비교할 때 만약 나보다 크면 뒤로 밀어버리기\n",
        "\n",
        "--> 최악의 경우: O(n^2). but 위의 2개와 다르게 최선이 있음. 최선의 경우 n. 그러므로 위의 두개보다 일반적인 경우에 훨씬 적게 시간이 들음."
      ]
    },
    {
      "cell_type": "code",
      "metadata": {
        "colab": {
          "base_uri": "https://localhost:8080/"
        },
        "id": "HxMHsEZ1Zm0B",
        "outputId": "b6576479-01a6-4920-eb9d-2382b7d4067f"
      },
      "source": [
        "def insertionS(arr, k):\n",
        "  if k == 0:\n",
        "    insertionS(arr, k+1)\n",
        "  elif k == N:\n",
        "    return\n",
        "  else:\n",
        "    tmp = arr[k]\n",
        "    for i in reversed(range(k)):\n",
        "      if arr[i] > tmp:\n",
        "        tmpp = arr[i]\n",
        "        arr[i] = arr[i+1]\n",
        "        arr[i+1] = tmpp\n",
        "      else:\n",
        "        arr[i+1] = tmp\n",
        "        break\n",
        "    insertionS(arr,k+1)\n",
        "\n",
        "arr = [5,7,3,2,10,9,1]\n",
        "N = len(arr)\n",
        "\n",
        "insertionS(arr,0)\n",
        "\n",
        "print(arr)"
      ],
      "execution_count": 27,
      "outputs": [
        {
          "output_type": "stream",
          "text": [
            "[1, 2, 3, 5, 7, 9, 10]\n"
          ],
          "name": "stdout"
        }
      ]
    },
    {
      "cell_type": "markdown",
      "metadata": {
        "id": "hZUHpdYIZmRa"
      },
      "source": [
        "**4. Merge Sort**\n",
        "\n",
        "# **Divide and Conquer 사용!!**\n",
        "\n",
        "--> 분할정복의 3가지 단계\n",
        "- 분할: 해결하고자 하는 문제를 작은 크기의 **동일한** 문제들로 분할\n",
        "\n",
        "  ex) 반잘라서 앞에서 최댓값 찾고, 뒤에서 최댓값 찾기 (결국 최댓값을 찾는 문제므로 동일한 문제들로 분할한 것이 됨)\n",
        "- 정복: 각각의 작은 문제를 순환적으로 해결\n",
        "\n",
        "  ex) 전체문제를 해결하는 방법과 동일한 방법으로 recursion적으로 최댓값 찾기\n",
        "  \n",
        "  --> D&Q는 기본적으로 **recursion을 사용하는 해결방법**!\n",
        "- 합병: 작은 문제의 해를 합하여 원래 문제에 대한 해를 구함\n",
        "  \n",
        "  ex) 앞 최댓값과 뒷 최댓값을 비교하여 더 큰 값을 해로 도출\n",
        "\n",
        "\n",
        "\n",
        "Merge Sort\n",
        "\n",
        " - 데이터가 저장된 배열을 절반으로 나누기\n",
        " - 각각을 순환적으로 정렬하기\n",
        " - 정렬된 두개의 배열을 합쳐서 전체를 정렬 \n",
        "\n",
        "--> O(nlogn)\n"
      ]
    },
    {
      "cell_type": "code",
      "metadata": {
        "colab": {
          "base_uri": "https://localhost:8080/"
        },
        "id": "LVZPNRwtjHaK",
        "outputId": "251dee8a-47b0-47ba-aa15-33d61340a145"
      },
      "source": [
        "def mergeS(arr,p,r):\n",
        "  if p<r:\n",
        "    q = int((p+r)/2)\n",
        "    mergeS(arr,p,q)\n",
        "    mergeS(arr,q+1,r)   # 왼쪽 정렬\n",
        "    merge(arr,p,q,r)    # 오른쪽 정렬\n",
        "\n",
        "\n",
        "def merge(arr,p,q,r):\n",
        "\n",
        "  tmp = [0 for i in range(r+1)]   # 여기서 tmp = arr 하면 둘이 동기화되버림;;; python 대단하넹....\n",
        "  i = p\n",
        "  j = q+1\n",
        "  k = p\n",
        "  while i <=q and j <= r:\n",
        "    if arr[i] >arr[j]:\n",
        "      tmp[k] = arr[j]\n",
        "      j += 1\n",
        "      k += 1\n",
        "\n",
        "    else:\n",
        "      tmp[k] = arr[i]\n",
        "      i += 1\n",
        "      k += 1\n",
        "  if i > q:\n",
        "    while j != r+1:\n",
        "      tmp[k] = arr[j]\n",
        "      j += 1\n",
        "      k +=1\n",
        "  else:\n",
        "    while i != q+1:\n",
        "      tmp[k] = arr[i]\n",
        "      i += 1\n",
        "      k += 1\n",
        "\n",
        "  for i in range(p,r+1):\n",
        "    arr[i] = tmp[i]\n",
        "\n",
        "#arr = [5,7,3,2,10,9,1]\n",
        "\n",
        "arr = [5,7,3,2]\n",
        "mergeS(arr,0,len(arr)-1)\n",
        "\n",
        "print(arr)"
      ],
      "execution_count": 47,
      "outputs": [
        {
          "output_type": "stream",
          "text": [
            "[2, 3, 5, 7]\n"
          ],
          "name": "stdout"
        }
      ]
    },
    {
      "cell_type": "markdown",
      "metadata": {
        "id": "LNaNQuK8wPu1"
      },
      "source": [
        "**5. Quick sort**\n",
        " - 분할 정복 사용\n",
        " - 데이터를 분할하는 방법이 merge sort와 다름\n",
        " - 1. pivot 정하기\n",
        "  2. pivot 기준으로 작은건 앞에, 큰건 뒤에 정렬 -> 분할(partition)\n",
        "  3. pivot 앞, 뒤를 recursion으로 정렬하기\n",
        "  4. merge를 할 필요 x\n",
        " - 여기선 partition이 더 중요함\n",
        "\n",
        " --> 최선: O(nlogn) 최악: O(n^2)\n",
        "  \n"
      ]
    },
    {
      "cell_type": "code",
      "metadata": {
        "colab": {
          "base_uri": "https://localhost:8080/"
        },
        "id": "RJdRsu6wO5B-",
        "outputId": "56938c86-eb6f-4642-eeb1-58f7abd11a1d"
      },
      "source": [
        "def quickS(arr,start,end):\n",
        "  if start < end :\n",
        "    q = partition(arr,start,end)\n",
        "    quickS(arr,start,q-1)\n",
        "    quickS(arr,q+1,end)\n",
        "\n",
        "\n",
        "def partition(arr,start,end):\n",
        "  pivot = arr[end]\n",
        "  i = start-1\n",
        "  j = start\n",
        "  for j in range(start,end):\n",
        "    if arr[j] > pivot:\n",
        "      j=j+1\n",
        "    else:\n",
        "      i += 1\n",
        "      tmp = arr[j]\n",
        "      arr[j] = arr[i]\n",
        "      arr[i] = tmp\n",
        "      j += 1\n",
        "  arr[end] = arr[i+1] \n",
        "  arr[i+1] = pivot\n",
        "  return i+1\n",
        "\n",
        "\n",
        "arr = [5,7,3,2,8,1]\n",
        "endd = len(arr) -1\n",
        "\n",
        "quickS(arr,0,endd)\n",
        "\n",
        "print(arr)\n",
        "  \n",
        "  \n",
        "\n"
      ],
      "execution_count": 60,
      "outputs": [
        {
          "output_type": "stream",
          "text": [
            "[1, 2, 3, 5, 7, 8]\n"
          ],
          "name": "stdout"
        }
      ]
    }
  ]
}