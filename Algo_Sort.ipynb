{
  "nbformat": 4,
  "nbformat_minor": 0,
  "metadata": {
    "colab": {
      "name": "Algo_Sort.ipynb",
      "provenance": [],
      "collapsed_sections": [],
      "authorship_tag": "ABX9TyNcjNmWeCsJMPiyJADLl8OR",
      "include_colab_link": true
    },
    "kernelspec": {
      "name": "python3",
      "display_name": "Python 3"
    }
  },
  "cells": [
    {
      "cell_type": "markdown",
      "metadata": {
        "id": "view-in-github",
        "colab_type": "text"
      },
      "source": [
        "<a href=\"https://colab.research.google.com/github/gkrry2723/algorithm_s/blob/master/Algo_Sort.ipynb\" target=\"_parent\"><img src=\"https://colab.research.google.com/assets/colab-badge.svg\" alt=\"Open In Colab\"/></a>"
      ]
    },
    {
      "cell_type": "markdown",
      "metadata": {
        "id": "8ZSNhqhSJvZE"
      },
      "source": [
        "# **ALGORITHM - SORT 공부**\n",
        "\n",
        "정렬 알고리즘 종류\n",
        "- selection sort\n",
        "- bubble sort\n",
        "- insertion sort\n",
        "  \n",
        "  --> simple, slow\n",
        "\n",
        "- quick sort\n",
        "- merge sort\n",
        "- heap sort\n",
        "\n",
        " --> fast\n",
        "\n",
        "- radix sort \n",
        "\n",
        " --> 근본적으로 다름. O(n)"
      ]
    },
    {
      "cell_type": "markdown",
      "metadata": {
        "id": "-fpmk_Q2PEPL"
      },
      "source": [
        "**1. Selection Sort**\n",
        "- 각 루프마다\n",
        "  - 최대 원소를 찾는다\n",
        "  - 최대 원소와 맨 오른쪽 원소를 교환한다.\n",
        "  - 맨 오른쪽 원소를 제외한다.\n",
        "- 하나의 원소만 남을 때 까지 반복!\n",
        "\n",
        "\n",
        "--> 실행시간: max를 찾는 작업-> n-1, n-2, n-3 .... 그러므로 O(n^2)"
      ]
    },
    {
      "cell_type": "code",
      "metadata": {
        "colab": {
          "base_uri": "https://localhost:8080/"
        },
        "id": "7m5oJrDaPSRO",
        "outputId": "3c114040-8b3d-4451-c92a-b11e6ad44de0"
      },
      "source": [
        "def selectionS(arr,N):\n",
        "  if N == 1:\n",
        "    return\n",
        "  else:\n",
        "    i = arr.index(max(arr[:N]))\n",
        "\n",
        "    tmp = arr[N-1]\n",
        "    arr[N-1] = arr[i]\n",
        "    arr[i] = tmp\n",
        "\n",
        "    selectionS(arr,N-1)\n",
        "\n",
        "\n",
        "arr = [5,7,3,2,10,9,1]\n",
        "N = len(arr)\n",
        "\n",
        "selectionS(arr,N)\n",
        "\n",
        "print(arr)"
      ],
      "execution_count": null,
      "outputs": [
        {
          "output_type": "stream",
          "text": [
            "[1, 2, 3, 5, 7, 9, 10]\n"
          ],
          "name": "stdout"
        }
      ]
    },
    {
      "cell_type": "markdown",
      "metadata": {
        "id": "iGcfENuoWCME"
      },
      "source": [
        "**2.  Bubble Sort**\n",
        "\n",
        " -> 최댓값을 찾아서 끝에 두고 그 앞에서 또 찾아서 ... 이런건 selection sort와 동일하지만 최댓값을 찾는 과정이 조금 다름!\n",
        "\n",
        " - 맨 앞부터, 나와 그 다음 원소 크기를 비교하여 큰것이 뒤로가게 자리를 바꿈\n",
        " - 끝까지 반복\n",
        " - 맨뒤에 있는 수 제외 앞에서부터 다시 반복\n",
        "\n",
        "--> 바꾸는 실행을 n-1 + n-2 + ... + 2 + 1 이렇게 하므로 O(n^2)"
      ]
    },
    {
      "cell_type": "code",
      "metadata": {
        "colab": {
          "base_uri": "https://localhost:8080/"
        },
        "id": "zSgPda7vWjwg",
        "outputId": "a66ca2dd-6780-426c-a93c-2d2966f04eae"
      },
      "source": [
        "def bubbleS(arr,N):\n",
        "  if N == 1:\n",
        "    return\n",
        "  else:\n",
        "    for i in range(N-1):\n",
        "      if arr[i] > arr[i+1]:\n",
        "        tmp = arr[i]\n",
        "        arr[i] = arr[i+1]\n",
        "        arr[i+1] = tmp\n",
        "    bubbleS(arr,N-1)\n",
        "\n",
        "\n",
        "arr = [5,7,3,2,10,9,1]\n",
        "N = len(arr)\n",
        "\n",
        "bubbleS(arr,N)\n",
        "\n",
        "print(arr)"
      ],
      "execution_count": null,
      "outputs": [
        {
          "output_type": "stream",
          "text": [
            "[1, 2, 3, 5, 7, 9, 10]\n"
          ],
          "name": "stdout"
        }
      ]
    },
    {
      "cell_type": "markdown",
      "metadata": {
        "id": "sULnjEJjYlAu"
      },
      "source": [
        "**3. Insertion Sort**\n",
        "\n",
        "- 맨 앞 원소부터 개수를 한개씩 늘려가며 정렬\n",
        "- 처음에는 맨앞 1개만 정렬(그대로)\n",
        "- 다음: 정렬된 맨앞 1개와 그 다음 친구를 정렬\n",
        "- 다음: 정렬된 맨앞 2개와 그 다음 친구를 정렬\n",
        "- 위를 끝까지 반복함\n",
        "  - 여기서 정렬하는 방법: 그 다음 친구가 들어갈 수 있는 방법\n",
        "  - 정렬된 맨 뒤부터 insertion 원소와 비교(뒤에는 뒤로 밀수 있기 때문. 하지만 앞에서부터 하면 비교도 하고 뒤에애들도 밀어야함...)\n",
        "  - 비교할 때 만약 나보다 크면 뒤로 밀어버리기\n",
        "\n",
        "--> 최악의 경우: O(n^2). but 위의 2개와 다르게 최선이 있음. 최선의 경우 n. 그러므로 위의 두개보다 일반적인 경우에 훨씬 적게 시간이 들음."
      ]
    },
    {
      "cell_type": "code",
      "metadata": {
        "colab": {
          "base_uri": "https://localhost:8080/"
        },
        "id": "HxMHsEZ1Zm0B",
        "outputId": "b6576479-01a6-4920-eb9d-2382b7d4067f"
      },
      "source": [
        "def insertionS(arr, k):\n",
        "  if k == 0:\n",
        "    insertionS(arr, k+1)\n",
        "  elif k == N:\n",
        "    return\n",
        "  else:\n",
        "    tmp = arr[k]\n",
        "    for i in reversed(range(k)):\n",
        "      if arr[i] > tmp:\n",
        "        tmpp = arr[i]\n",
        "        arr[i] = arr[i+1]\n",
        "        arr[i+1] = tmpp\n",
        "      else:\n",
        "        arr[i+1] = tmp\n",
        "        break\n",
        "    insertionS(arr,k+1)\n",
        "\n",
        "arr = [5,7,3,2,10,9,1]\n",
        "N = len(arr)\n",
        "\n",
        "insertionS(arr,0)\n",
        "\n",
        "print(arr)"
      ],
      "execution_count": null,
      "outputs": [
        {
          "output_type": "stream",
          "text": [
            "[1, 2, 3, 5, 7, 9, 10]\n"
          ],
          "name": "stdout"
        }
      ]
    },
    {
      "cell_type": "markdown",
      "metadata": {
        "id": "hZUHpdYIZmRa"
      },
      "source": [
        "**4. Merge Sort**\n",
        "\n",
        "# **Divide and Conquer 사용!!**\n",
        "\n",
        "--> 분할정복의 3가지 단계\n",
        "- 분할: 해결하고자 하는 문제를 작은 크기의 **동일한** 문제들로 분할\n",
        "\n",
        "  ex) 반잘라서 앞에서 최댓값 찾고, 뒤에서 최댓값 찾기 (결국 최댓값을 찾는 문제므로 동일한 문제들로 분할한 것이 됨)\n",
        "- 정복: 각각의 작은 문제를 순환적으로 해결\n",
        "\n",
        "  ex) 전체문제를 해결하는 방법과 동일한 방법으로 recursion적으로 최댓값 찾기\n",
        "  \n",
        "  --> D&Q는 기본적으로 **recursion을 사용하는 해결방법**!\n",
        "- 합병: 작은 문제의 해를 합하여 원래 문제에 대한 해를 구함\n",
        "  \n",
        "  ex) 앞 최댓값과 뒷 최댓값을 비교하여 더 큰 값을 해로 도출\n",
        "\n",
        "\n",
        "\n",
        "Merge Sort\n",
        "\n",
        " - 데이터가 저장된 배열을 절반으로 나누기\n",
        " - 각각을 순환적으로 정렬하기\n",
        " - 정렬된 두개의 배열을 합쳐서 전체를 정렬 \n",
        "\n",
        "--> O(nlogn)\n"
      ]
    },
    {
      "cell_type": "code",
      "metadata": {
        "colab": {
          "base_uri": "https://localhost:8080/"
        },
        "id": "LVZPNRwtjHaK",
        "outputId": "251dee8a-47b0-47ba-aa15-33d61340a145"
      },
      "source": [
        "def mergeS(arr,p,r):\n",
        "  if p<r:\n",
        "    q = int((p+r)/2)\n",
        "    mergeS(arr,p,q)\n",
        "    mergeS(arr,q+1,r)   # 왼쪽 정렬\n",
        "    merge(arr,p,q,r)    # 오른쪽 정렬\n",
        "\n",
        "\n",
        "def merge(arr,p,q,r):\n",
        "\n",
        "  tmp = [0 for i in range(r+1)]   # 여기서 tmp = arr 하면 둘이 동기화되버림;;; python 대단하넹....\n",
        "  i = p\n",
        "  j = q+1\n",
        "  k = p\n",
        "  while i <=q and j <= r:\n",
        "    if arr[i] >arr[j]:\n",
        "      tmp[k] = arr[j]\n",
        "      j += 1\n",
        "      k += 1\n",
        "\n",
        "    else:\n",
        "      tmp[k] = arr[i]\n",
        "      i += 1\n",
        "      k += 1\n",
        "  if i > q:\n",
        "    while j != r+1:\n",
        "      tmp[k] = arr[j]\n",
        "      j += 1\n",
        "      k +=1\n",
        "  else:\n",
        "    while i != q+1:\n",
        "      tmp[k] = arr[i]\n",
        "      i += 1\n",
        "      k += 1\n",
        "\n",
        "  for i in range(p,r+1):\n",
        "    arr[i] = tmp[i]\n",
        "\n",
        "#arr = [5,7,3,2,10,9,1]\n",
        "\n",
        "arr = [5,7,3,2]\n",
        "mergeS(arr,0,len(arr)-1)\n",
        "\n",
        "print(arr)"
      ],
      "execution_count": null,
      "outputs": [
        {
          "output_type": "stream",
          "text": [
            "[2, 3, 5, 7]\n"
          ],
          "name": "stdout"
        }
      ]
    },
    {
      "cell_type": "markdown",
      "metadata": {
        "id": "LNaNQuK8wPu1"
      },
      "source": [
        "**5. Quick sort**\n",
        " - 분할 정복 사용\n",
        " - 데이터를 분할하는 방법이 merge sort와 다름\n",
        " - 1. pivot 정하기\n",
        "  2. pivot 기준으로 작은건 앞에, 큰건 뒤에 정렬 -> 분할(partition)\n",
        "  3. pivot 앞, 뒤를 recursion으로 정렬하기\n",
        "  4. merge를 할 필요 x\n",
        " - 여기선 partition이 더 중요함\n",
        "\n",
        " --> 최선: O(nlogn) 최악: O(n^2)\n",
        "  \n"
      ]
    },
    {
      "cell_type": "code",
      "metadata": {
        "colab": {
          "base_uri": "https://localhost:8080/"
        },
        "id": "RJdRsu6wO5B-",
        "outputId": "56938c86-eb6f-4642-eeb1-58f7abd11a1d"
      },
      "source": [
        "def quickS(arr,start,end):\n",
        "  if start < end :\n",
        "    q = partition(arr,start,end)\n",
        "    quickS(arr,start,q-1)\n",
        "    quickS(arr,q+1,end)\n",
        "\n",
        "\n",
        "def partition(arr,start,end):\n",
        "  pivot = arr[end]\n",
        "  i = start-1\n",
        "  j = start\n",
        "  for j in range(start,end):\n",
        "    if arr[j] > pivot:\n",
        "      j=j+1\n",
        "    else:\n",
        "      i += 1\n",
        "      tmp = arr[j]\n",
        "      arr[j] = arr[i]\n",
        "      arr[i] = tmp\n",
        "      j += 1\n",
        "  arr[end] = arr[i+1] \n",
        "  arr[i+1] = pivot\n",
        "  return i+1\n",
        "\n",
        "\n",
        "arr = [5,7,3,2,8,1]\n",
        "endd = len(arr) -1\n",
        "\n",
        "quickS(arr,0,endd)\n",
        "\n",
        "print(arr)\n",
        "  \n",
        "  \n",
        "\n"
      ],
      "execution_count": null,
      "outputs": [
        {
          "output_type": "stream",
          "text": [
            "[1, 2, 3, 5, 7, 8]\n"
          ],
          "name": "stdout"
        }
      ]
    },
    {
      "cell_type": "markdown",
      "metadata": {
        "id": "HMLOFNbIS4SK"
      },
      "source": [
        "**6. Heap Sort**\n",
        "\n",
        " - Heap 구조 사용\n",
        "  - complete binary tree이면서\n",
        "    - leaf 노드를 제외하면 완전히 꽉 차있고, 마지막 레벨에는 가장 오른쪽부터 비어있을 수 있음\n",
        "  - heap property를 만족해야 함\n",
        "    - max heap property: 부모는 자식보다 크거나 같다.\n",
        "    - min heap property: 부모는 자식보다 같거나 같다.\n",
        "    - 이 둘중 하나를 사용. max heap을 다룸\n",
        "\n",
        "- Heap 은 일차원 배열로 표현 가능(complete bin tree 이므로)\n",
        "  - 루트 노드: A[1]\n",
        "  - A[i]의 부모 : A[i/2]\n",
        "  - A[i]의 왼쪽 자식: A[2i]\n",
        "  - A[i]의 오른쪽 자식: A[2i+1]\n",
        "- MAX-HEAPIFY: 왼쪽 노드 heap, 오른쪽 노드: heap. 루트만 만족 x 일 때 이를 heap으로 만들어주는 기본 연산\n",
        "  - 두 자식들 중 더 큰 쪽이 나보다 크면 exchange \n",
        "   "
      ]
    },
    {
      "cell_type": "code",
      "metadata": {
        "id": "Z8lxvSrOYNwa"
      },
      "source": [
        "# MAX_HEAPIFY recursive 버전\n",
        "\n",
        "def MAX_HEAPIFY_r(A, i,num):\n",
        "  if 2*i>num :\n",
        "    return\n",
        "  else:\n",
        "    if 2*i+1>num:\n",
        "      k = 2*i\n",
        "    else:\n",
        "      if A[2*i]>A[2*i+1]:\n",
        "        k = 2*i\n",
        "      else:\n",
        "        k = 2*i + 1\n",
        "\n",
        "    if A[k]>A[i]:\n",
        "      A[k], A[i] = A[i], A[k]\n",
        "      MAX_HEAPIFY_r(A,k,num)\n",
        "    else:\n",
        "      return\n",
        "\n",
        "# MAX_HEAPIFY ieterative 버전\n",
        "\n",
        "def MAX_HEAPIFY_i(A, i):\n",
        "  while 2*i <= num :\n",
        "    if A[2*i]>A[2*i+1] and A[2*i] > A[i]:\n",
        "      A[2*i], A[i] = A[i], A[2*i]\n",
        "      i = 2*i\n",
        "    elif A[2*i]<A[2*i+1] and A[2*i+1] > A[i]:\n",
        "      A[2*i+1], A[i] = A[i], A[2*i+1]\n",
        "      i = 2*i+1\n",
        "    else:\n",
        "      break\n",
        "\n",
        "\n",
        "# main\n",
        "\n",
        "# A = [4,16,15,8,7,13,14,2,5]\n",
        "# B = [4,16,15,8,7,13,14,2,5]\n",
        "# N = len(A)\n",
        "# A = [0] + A\n",
        "# B = [0] + B\n",
        "# MAX_HEAPIFY_r(A,1,len(A))\n",
        "# MAX_HEAPIFY_i(B,1)\n",
        "# A=A[1:]\n",
        "# B=B[1:]\n",
        "# print(A)\n",
        "# print(B)\n",
        "    \n"
      ],
      "execution_count": null,
      "outputs": []
    },
    {
      "cell_type": "markdown",
      "metadata": {
        "id": "BIFBGnsZdDkK"
      },
      "source": [
        "Heap Sort의 단계\n",
        "1. 정렬할 배열을 힙으로 만들기\n",
        "    - 맨 처음으로 leaf가 아닌 노드에서 MAX_HEAPIFY하기\n",
        "  \n",
        "  --> O(n)\n",
        "2. 힙에서 최대값을 가장 마지막 값과 바꾼다.\n",
        "3. 힙의 크기가 1 줄어든 것으로 간주한다\n",
        "4. 루트 노드에 대하여 heapify한다. ( 루트빼곤 이미 heap!)\n",
        "5. 2~4 반복하기\n",
        "\n",
        "- 이건 heap에선 항상 root가 max값임을 이용하여 한것임... 대박"
      ]
    },
    {
      "cell_type": "code",
      "metadata": {
        "colab": {
          "base_uri": "https://localhost:8080/"
        },
        "id": "p2bo5mEXYsvE",
        "outputId": "14202cb1-9833-4d61-82db-f4962e72dfb6"
      },
      "source": [
        "def make_heap(arr,i):\n",
        "  num = len(arr)\n",
        "  arr = [0]+ arr\n",
        "\n",
        "  first = int(N/2)\n",
        "\n",
        "  for i in range(first,0,-1):\n",
        "    MAX_HEAPIFY_r(arr,i,num)\n",
        "  \n",
        "  arr = arr[1:]\n",
        "  return arr\n",
        "\n",
        "def heapS(arr):\n",
        "\n",
        "  for i in range(0,N):\n",
        "    arr[:N-i] = make_heap(arr[:N-i],i)\n",
        "    arr[0], arr[N-1-i] = arr[N-1-i], arr[0]\n",
        "\n",
        "\n",
        "\n",
        "\n",
        "A = [4,1,3,2,16,9,10,14,8,7]\n",
        "N=len(A)\n",
        "# make_heap(A,0)\n",
        "heapS(A)\n",
        "#print(heapS(A))\n",
        "print(A)\n",
        "\n",
        "\n",
        "  \n",
        "\n",
        "  "
      ],
      "execution_count": null,
      "outputs": [
        {
          "output_type": "stream",
          "text": [
            "[1, 2, 3, 4, 7, 8, 9, 10, 14, 16]\n"
          ],
          "name": "stdout"
        }
      ]
    },
    {
      "cell_type": "markdown",
      "metadata": {
        "id": "bsUAAdoYqHPO"
      },
      "source": [
        "**참고: 힙의 응용 - 우선순위 큐**\n",
        "<최대 우선순위 큐>\n",
        "- FIFO\n",
        "- 다음의 연산을 지원함\n",
        "  - insert(x): 새로운 원소 x를 삽입\n",
        "  - extract_max(): 최대값을 삭제하고 반환\n",
        "- max heap을 이용하여 최대 우선운위 큐를 구현!\n",
        "\n"
      ]
    },
    {
      "cell_type": "code",
      "metadata": {
        "colab": {
          "base_uri": "https://localhost:8080/"
        },
        "id": "rcvlmHglrw3X",
        "outputId": "90bc2a1c-e572-43ac-a50a-2102d03c14ad"
      },
      "source": [
        "def INSERT(tree, num):\n",
        "  tree.append(num)\n",
        "  length = len(tree)\n",
        "  tree = [0] + tree\n",
        "  parent = int(length/2)\n",
        "  now = length\n",
        "\n",
        "  while now >1:\n",
        "    if tree[parent] < tree[now]:\n",
        "      tree[parent], tree[now] = tree[now], tree[parent]\n",
        "      now = parent\n",
        "      parent = int(now/2)\n",
        "      \n",
        "    else:\n",
        "      break\n",
        "  \n",
        "  return tree[1:]\n",
        "\n",
        "\n",
        "def EXTRACT_MAX(tree):\n",
        "  length = len(tree)\n",
        "  if length == 0:\n",
        "    print(\"heap is empty\")\n",
        "  return -1, tree\n",
        "\n",
        "  root = tree[0]\n",
        "  tree[0] = tree[-1]\n",
        "  tree = [0] + tree[:-1]\n",
        "  parent = 1\n",
        "  length = len(tree) - 1\n",
        "\n",
        "\n",
        "  #heapify\n",
        "  while parent*2 <= length:\n",
        "    if tree[2 * parent] > tree[2*parent + 1]:\n",
        "      child = 2*parent\n",
        "    else:\n",
        "      child = 2*parent+1\n",
        "\n",
        "    if tree[parent] < tree[child] :\n",
        "      tree[parent], tree[child] = tree[child], tree[parent]\n",
        "      parent = child\n",
        "    else:\n",
        "      exit\n",
        "  \n",
        "  tree = tree[1:]\n",
        "  return root, tree\n",
        "\n",
        "\n",
        "\n",
        "\n",
        "\n",
        "\n",
        "\n",
        "\n",
        "tree = [20, 10, 15, 8, 7, 13, 14, 2, 5, 6]\n",
        "max, tree = EXTRACT_MAX(tree)\n",
        "print(max)\n",
        "print(tree)\n",
        " "
      ],
      "execution_count": 12,
      "outputs": [
        {
          "output_type": "stream",
          "text": [
            "-1\n",
            "[20, 10, 15, 8, 7, 13, 14, 2, 5, 6]\n"
          ],
          "name": "stdout"
        }
      ]
    },
    {
      "cell_type": "markdown",
      "metadata": {
        "id": "STFnbgNr-D-_"
      },
      "source": [
        "**7. Counting Sort**\n",
        "- comparison sort가 아닌 경우에 가능\n",
        "- 정수 정렬, 단, 모든 정수는 0에서 k 사이의 정수이다.\n",
        "- 다른 데이터가 따라올 수 있기 때문에 그냥 개수만 세면안댐\n",
        "\n",
        "1) 개수세기\n",
        "\n",
        "2) 누적합으로 만들기\n",
        "\n",
        "3) 정렬할 데이터의 맨 뒤부터 해당 숫자의 counter index에 있는 숫자에 다시 정렬\n",
        "\n",
        "4) 해당 index의 개수 하나 빼기"
      ]
    },
    {
      "cell_type": "code",
      "metadata": {
        "colab": {
          "base_uri": "https://localhost:8080/"
        },
        "id": "7FCJwUq__KD_",
        "outputId": "1d5ef015-808b-4aac-ae33-8dceff590c05"
      },
      "source": [
        "def countingS(arr,k):\n",
        "  length = len(arr)\n",
        "  result = [0 for i in range(length)]\n",
        "  count = [0 for i in range(k+1)]\n",
        "\n",
        "  for i in range(0,length):\n",
        "    num = arr[i]\n",
        "    count[num] += 1\n",
        "  \n",
        "  sum = 0\n",
        "  for i in range(len(count)):\n",
        "    sum += count[i]\n",
        "    count[i]=sum\n",
        "  \n",
        "  for i in reversed(range(len(arr))):\n",
        "    print(count[arr[i]])\n",
        "    result[count[arr[i]]-1] = arr[i]\n",
        "    count[arr[i]] -= 1\n",
        "  \n",
        "  return result\n",
        "\n",
        "arr=[2,5,3,0,2,3,0,3]\n",
        "print(countingS(arr,5))"
      ],
      "execution_count": 15,
      "outputs": [
        {
          "output_type": "stream",
          "text": [
            "7\n",
            "2\n",
            "6\n",
            "4\n",
            "1\n",
            "5\n",
            "8\n",
            "3\n",
            "[0, 0, 2, 2, 3, 3, 3, 5]\n"
          ],
          "name": "stdout"
        }
      ]
    },
    {
      "cell_type": "markdown",
      "metadata": {
        "id": "3MfZten4Dd4y"
      },
      "source": [
        "**8. radix sort**\n",
        "- comparision sort가 아닌경우 가능\n",
        "- n개의 d자리 정수들(정수가 아니어도 가능)\n",
        "- 가장 낮은 자리수부터 정렬\n",
        "- 반드시 stable하게 sort해야함."
      ]
    },
    {
      "cell_type": "code",
      "metadata": {
        "colab": {
          "base_uri": "https://localhost:8080/"
        },
        "id": "19dTylRCDs9U",
        "outputId": "74057355-8658-44c4-9510-840672e03d26"
      },
      "source": [
        "def radixS(arr, d, k):\n",
        "  print(\"d\")\n",
        "  for i in range(d):\n",
        "    arr = countingS_radix(arr,k-1, i+1)\n",
        "\n",
        "  return arr\n",
        "\n",
        "\n",
        "def countingS_radix(arr,k,d):\n",
        "  length = len(arr)\n",
        "  result = [0 for i in range(length)]\n",
        "  count = [0 for i in range(k+1)]\n",
        "  numarr = [0 for i in range(length)]\n",
        "\n",
        "\n",
        "  for i in range(0,length):\n",
        "    tmp = d\n",
        "    num = arr[i]\n",
        "    while tmp>1:\n",
        "      num = int(num/10)\n",
        "      tmp -= 1\n",
        "    num = int(num%10)\n",
        "\n",
        "    print(num)\n",
        "    count[num] += 1\n",
        "    numarr[i] = num\n",
        "  \n",
        "  sum = 0\n",
        "  for i in range(len(count)):\n",
        "    sum += count[i]\n",
        "    count[i]=sum\n",
        "  \n",
        "  for i in reversed(range(len(arr))):\n",
        "    print(count[numarr[i]])\n",
        "    result[count[numarr[i]]-1] = arr[i]\n",
        "    count[numarr[i]] -= 1\n",
        "  print(result)\n",
        "  \n",
        "  return result\n",
        "\n",
        "\n",
        "arr = [329,457,657,839,436,720,355]\n",
        "print(radixS(arr,3,10))\n"
      ],
      "execution_count": 35,
      "outputs": [
        {
          "output_type": "stream",
          "text": [
            "d\n",
            "9\n",
            "7\n",
            "7\n",
            "9\n",
            "6\n",
            "0\n",
            "5\n",
            "2\n",
            "1\n",
            "3\n",
            "7\n",
            "5\n",
            "4\n",
            "6\n",
            "[720, 355, 436, 457, 657, 329, 839]\n",
            "2\n",
            "5\n",
            "3\n",
            "5\n",
            "5\n",
            "2\n",
            "3\n",
            "4\n",
            "2\n",
            "7\n",
            "6\n",
            "3\n",
            "5\n",
            "1\n",
            "[720, 329, 436, 839, 355, 457, 657]\n",
            "7\n",
            "3\n",
            "4\n",
            "8\n",
            "3\n",
            "4\n",
            "6\n",
            "5\n",
            "4\n",
            "2\n",
            "7\n",
            "3\n",
            "1\n",
            "6\n",
            "[329, 355, 436, 457, 657, 720, 839]\n",
            "[329, 355, 436, 457, 657, 720, 839]\n"
          ],
          "name": "stdout"
        }
      ]
    },
    {
      "cell_type": "code",
      "metadata": {
        "id": "zGU7QCEoEI5E"
      },
      "source": [
        ""
      ],
      "execution_count": null,
      "outputs": []
    }
  ]
}