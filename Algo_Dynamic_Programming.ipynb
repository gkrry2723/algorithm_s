{
  "nbformat": 4,
  "nbformat_minor": 0,
  "metadata": {
    "colab": {
      "name": "Algo-Dynamic_Programming.ipynb",
      "provenance": [],
      "authorship_tag": "ABX9TyMjTVe9/y2iS9Kde6b9pjtD",
      "include_colab_link": true
    },
    "kernelspec": {
      "name": "python3",
      "display_name": "Python 3"
    }
  },
  "cells": [
    {
      "cell_type": "markdown",
      "metadata": {
        "id": "view-in-github",
        "colab_type": "text"
      },
      "source": [
        "<a href=\"https://colab.research.google.com/github/gkrry2723/algorithm_s/blob/master/Algo_Dynamic_Programming.ipynb\" target=\"_parent\"><img src=\"https://colab.research.google.com/assets/colab-badge.svg\" alt=\"Open In Colab\"/></a>"
      ]
    },
    {
      "cell_type": "markdown",
      "metadata": {
        "id": "z3eRBdZ-xLgm"
      },
      "source": [
        "# **ALGORITHM - Dynamic Programming**\r\n"
      ]
    },
    {
      "cell_type": "markdown",
      "metadata": {
        "id": "CwnP9qzDrLdR"
      },
      "source": [
        "**1. fibonacci number**\r\n",
        "\r\n",
        "- recursion으로 하면 많은 계산이 중복된다.\r\n",
        "- 그렇기 때문에 중간 계산 결과를 caching함으로써 중복 계산을 피할 수 있다.\r\n",
        "- 아래 방식은 memorization을 이용한 방법"
      ]
    },
    {
      "cell_type": "code",
      "metadata": {
        "id": "rqCG4obPv3FK",
        "colab": {
          "base_uri": "https://localhost:8080/"
        },
        "outputId": "5838b7ec-13af-4e97-e7e5-562fab5cea6a"
      },
      "source": [
        "def fib(n):\r\n",
        "  \r\n",
        "  if n ==0 or n==1:\r\n",
        "    return 1\r\n",
        "  elif result[n] != -1:\r\n",
        "    return result[n]\r\n",
        "  else:\r\n",
        "    result[n] = fib(n-1) + fib(n-2)\r\n",
        "    return result[n]\r\n",
        "\r\n",
        "\r\n",
        "n=10\r\n",
        "result = [-1 for i in range(n+1)]\r\n",
        "print(fib(n))\r\n",
        "print(result)"
      ],
      "execution_count": null,
      "outputs": [
        {
          "output_type": "stream",
          "text": [
            "89\n",
            "[-1, -1, 2, 3, 5, 8, 13, 21, 34, 55, 89]\n"
          ],
          "name": "stdout"
        }
      ]
    },
    {
      "cell_type": "markdown",
      "metadata": {
        "id": "Y0RjWff6seIj"
      },
      "source": [
        "- 아래 방식은 dynamic programming을 이용한 방법\r\n",
        "- bottom up 방식"
      ]
    },
    {
      "cell_type": "code",
      "metadata": {
        "colab": {
          "base_uri": "https://localhost:8080/"
        },
        "id": "rf1e1trRswO7",
        "outputId": "1e2e5ee1-64dc-4962-9d14-16ef5e41a189"
      },
      "source": [
        "def fib(n):\r\n",
        "  f = [1 for i in range(n+1)]\r\n",
        "\r\n",
        "  for i in range(2,n+1):\r\n",
        "    f[i] = f[i-1]+f[i-2]\r\n",
        "  return f[n]\r\n",
        "\r\n",
        "n=10\r\n",
        "print(fib(10))"
      ],
      "execution_count": null,
      "outputs": [
        {
          "output_type": "stream",
          "text": [
            "89\n"
          ],
          "name": "stdout"
        }
      ]
    },
    {
      "cell_type": "markdown",
      "metadata": {
        "id": "M5eTL5qbtc7Q"
      },
      "source": [
        "**2. 이항계수**\r\n",
        "- nCk\r\n",
        "- nCk = n-1Ck + n-1Ck-1 , n==k or k==0 이면 1\r\n"
      ]
    },
    {
      "cell_type": "code",
      "metadata": {
        "id": "VA4oqSOfuAJJ",
        "colab": {
          "base_uri": "https://localhost:8080/"
        },
        "outputId": "c0162105-4c47-47bf-c608-f36663f4ab78"
      },
      "source": [
        "# recursion 버전\r\n",
        "def Cr(n,k):\r\n",
        "  if n==k or k==0:\r\n",
        "    return 1\r\n",
        "  else:\r\n",
        "    return C(n-1,k)+C(n-1,k-1)\r\n",
        "\r\n",
        "print(Cr(5,3))\r\n",
        "\r\n",
        "# memorization 버전\r\n",
        "def Cm(n,k):\r\n",
        "  if n==k or k==0:\r\n",
        "    binom[n][k] = 1\r\n",
        "    return 1\r\n",
        "  elif binom[n][k]>-1:\r\n",
        "    return binom[n][k]\r\n",
        "  else:\r\n",
        "    binom[n][k] = Cm(n-1,k-1)+Cm(n-1,k)\r\n",
        "    return binom[n][k]\r\n",
        "\r\n",
        "n=5\r\n",
        "binom = [[-1 for j in range(i+1)] for i in range(n+1)]\r\n",
        "print(Cm(n,3))\r\n",
        "print(binom) \r\n",
        "\r\n",
        "# 동적 계획법 버전(bottom up)\r\n",
        "def Cd(n,k):\r\n",
        "  binomd = [[-1 for j in range(i+1)] for i in range(n+1)]\r\n",
        "  for i in range(n+1):\r\n",
        "    w = i+1 if i+1 < k+1 else k+1\r\n",
        "    for j in range(w):\r\n",
        "      if j == 0 or i==j:\r\n",
        "        binomd[i][j] = 1\r\n",
        "      else:\r\n",
        "        binomd[i][j] = binomd[i-1][j-1]+binomd[i-1][j]\r\n",
        "\r\n",
        "  return binomd[n][k]\r\n",
        "\r\n",
        "print(Cd(5,3))"
      ],
      "execution_count": null,
      "outputs": [
        {
          "output_type": "stream",
          "text": [
            "10\n",
            "10\n",
            "[[-1], [1, 1], [1, 2, 1], [-1, 3, 3, 1], [-1, -1, 6, 4, -1], [-1, -1, -1, 10, -1, -1]]\n",
            "10\n"
          ],
          "name": "stdout"
        }
      ]
    },
    {
      "cell_type": "markdown",
      "metadata": {
        "id": "hVO-gybotrqk"
      },
      "source": [
        "**3. 행렬 경로 문제**\r\n",
        "- nXn 행렬에서 좌상단에서 우하단으로 이동하는 것(오른쪽, 아래로만 이동 가능)\r\n",
        "- 방문한 칸에 있는 정수의 합이 최소화 될 수 있도록 고르기"
      ]
    },
    {
      "cell_type": "code",
      "metadata": {
        "colab": {
          "base_uri": "https://localhost:8080/"
        },
        "id": "fYFrqdYC0Ele",
        "outputId": "edec0412-166c-4603-d48a-760f0e8cfe6c"
      },
      "source": [
        "#memorization 버전\r\n",
        "\r\n",
        "def mem(i,j):\r\n",
        "  if L[i][j] != -1:\r\n",
        "    return L[i][j]\r\n",
        "  if i ==0 and j == 0:\r\n",
        "    L[i][j] = matrix[i][j]\r\n",
        "  elif i ==0:\r\n",
        "    L[i][j] = mem(0,j-1) +matrix[i][j]\r\n",
        "  elif j ==0:\r\n",
        "    L[i][j] = mem(i-1,0) +matrix[i][j]\r\n",
        "  else:\r\n",
        "    L[i][j] = min(mem(i-1,j),mem(i,j-1)) + matrix[i][j]\r\n",
        "  return L[i][j]\r\n",
        "\r\n",
        "\r\n",
        "matrix = [[6,7,12,5],\r\n",
        "          [5,3,11,18],\r\n",
        "          [7,17,3,3],\r\n",
        "          [8,10,14,9]]\r\n",
        "\r\n",
        "L = [[-1 for j in range(len(matrix))]for i in range(len(matrix))]\r\n",
        "print(mem(len(matrix)-1,len(matrix)-1))\r\n",
        "print(L)\r\n"
      ],
      "execution_count": null,
      "outputs": [
        {
          "output_type": "stream",
          "text": [
            "40\n",
            "[[6, 13, 25, 30], [11, 14, 25, 43], [18, 31, 28, 31], [26, 36, 42, 40]]\n"
          ],
          "name": "stdout"
        }
      ]
    },
    {
      "cell_type": "code",
      "metadata": {
        "colab": {
          "base_uri": "https://localhost:8080/"
        },
        "id": "5vaq8YLpuBUk",
        "outputId": "d575a95a-f9a4-40a0-c8e3-197c08df61b4"
      },
      "source": [
        "#Dynamic Promgramming 버전\r\n",
        "matrix = [[6,7,12,5],\r\n",
        "          [5,3,11,18],\r\n",
        "          [7,17,3,3],\r\n",
        "          [8,10,14,9]]\r\n",
        "\r\n",
        "L = [[-1 for j in range(len(matrix))]for i in range(len(matrix))]\r\n",
        "p = [[\"\" for j in range(len(matrix))]for i in range(len(matrix))]\r\n",
        "for i in range(len(matrix)):\r\n",
        "  for j in range(len(matrix)):\r\n",
        "    if i ==0 and j == 0:\r\n",
        "      L[i][j] = matrix[i][j]\r\n",
        "      p[i][j] = \"-\"\r\n",
        "    elif i ==0:\r\n",
        "      L[i][j] = L[i][j-1] +matrix[i][j]\r\n",
        "      p[i][j] = \"<\"\r\n",
        "    elif j ==0:\r\n",
        "      L[i][j] = L[i-1][j] +matrix[i][j]\r\n",
        "      p[i][j] = \"^\"\r\n",
        "    else:\r\n",
        "      #L[i][j] = min(L[i][j-1],L[i-1][j]) + matrix[i][j]\r\n",
        "      if L[i][j-1]<L[i-1][j]:\r\n",
        "        L[i][j] = L[i][j-1] + matrix[i][j]\r\n",
        "        p[i][j]= \"<\"\r\n",
        "      else:\r\n",
        "        L[i][j] = L[i-1][j] + matrix[i][j]\r\n",
        "        p[i][j]= \"^\"\r\n",
        "\r\n",
        "print(L)\r\n",
        "for i in range(len(p)):\r\n",
        "  print(p[i])"
      ],
      "execution_count": null,
      "outputs": [
        {
          "output_type": "stream",
          "text": [
            "[[6, 13, 25, 30], [11, 14, 25, 43], [18, 31, 28, 31], [26, 36, 42, 40]]\n",
            "['-', '<', '<', '<']\n",
            "['^', '<', '<', '<']\n",
            "['^', '^', '^', '<']\n",
            "['^', '<', '^', '^']\n"
          ],
          "name": "stdout"
        }
      ]
    },
    {
      "cell_type": "markdown",
      "metadata": {
        "id": "CRo2Jkt44ERr"
      },
      "source": [
        "**4. Matrix-Chain Multiplication**\r\n",
        "\r\n",
        "- 행렬을 여러개 곱하는 것\r\n",
        "- 곱하는 순서에 따라 연산량이 다르므로 결합법칙을 사용하여 행렬의 곱을 계산하는 최적의 순서를 알아내는 것이 목표!\r\n",
        "-  "
      ]
    },
    {
      "cell_type": "code",
      "metadata": {
        "id": "KAxiD5rGF9DE"
      },
      "source": [
        "def matrixChain(n):\r\n",
        "  m = [[-1 for i in range(n+1)] for i in range(n+1)]\r\n",
        "  for i in range(1,n+1):\r\n",
        "    m[i][i] = 0\r\n",
        "  for r in range(1,n):\r\n",
        "    for i in range(1,n-r+1):\r\n",
        "      j = i+r\r\n",
        "      m[i][j] = m[i+1][j] + p[i-1]*p[i]*p[j]\r\n",
        "      for k in range(i+1,j):\r\n",
        "        if m[i][j] > m[i][k] + m[k+1][j] +p[i-1]*p[k]*p[j]:\r\n",
        "          m[i][j] = m[i][k] + m[k+1][j] +p[i-1]*p[k]*p[j]\r\n",
        "  return m[1][n]\r\n",
        "\r\n",
        "\r\n",
        "\r\n"
      ],
      "execution_count": null,
      "outputs": []
    },
    {
      "cell_type": "markdown",
      "metadata": {
        "id": "DMFnM73ROOLY"
      },
      "source": [
        "**5. Longest Common Subsequence ( LCS)**\r\n",
        "- 입력으로 두개의 문자열\r\n",
        "- 두 문자열에서 순서대로 겹치는 문자를 모은 열이 common subsequence\r\n",
        "- LCS는 그러한 CS중 가장 긴것\r\n"
      ]
    },
    {
      "cell_type": "code",
      "metadata": {
        "id": "y2tQ70RRPStH"
      },
      "source": [
        "def lcs(m,n):\r\n",
        "  for i in range(m+1):\r\n",
        "    c[i][0] = 0\r\n",
        "  for j in range(n+1):\r\n",
        "    c[0][j] = 0\r\n",
        "  for i in range(m+1):\r\n",
        "    for j in range(n+1):\r\n",
        "      if x[i] == y[j]:\r\n",
        "        c[i][j] = c[i-1][j-1] + 1\r\n",
        "      else:\r\n",
        "        c[i][j] = max(c[i-1][j], c[i][j-1])\r\n",
        "\r\n",
        "  return c[m][n]\r\n",
        "\r\n",
        "  "
      ],
      "execution_count": null,
      "outputs": []
    },
    {
      "cell_type": "markdown",
      "metadata": {
        "id": "C1dsj1yJTdnX"
      },
      "source": [
        "**6. knapsack Problem**\r\n",
        "- n개의 아이템과 배낭\r\n",
        "- 배낭의 용량 W\r\n",
        "- 각각의 아이템은 무게 w와 가격 v를 가짐\r\n",
        "- 도둑은 배낭의 용량을 넘치지 않으면서 가장 큰 가격의 아이템을 훔치는 것이 목표!"
      ]
    },
    {
      "cell_type": "code",
      "metadata": {
        "id": "2rtlym2LTynS"
      },
      "source": [
        " "
      ],
      "execution_count": null,
      "outputs": []
    }
  ]
}