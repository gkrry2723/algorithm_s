{
  "nbformat": 4,
  "nbformat_minor": 0,
  "metadata": {
    "colab": {
      "name": "Algo - Recursion.ipynb",
      "provenance": [],
      "authorship_tag": "ABX9TyPG+/GPRIpXVo6IV67zc6W1",
      "include_colab_link": true
    },
    "kernelspec": {
      "name": "python3",
      "display_name": "Python 3"
    }
  },
  "cells": [
    {
      "cell_type": "markdown",
      "metadata": {
        "id": "view-in-github",
        "colab_type": "text"
      },
      "source": [
        "<a href=\"https://colab.research.google.com/github/gkrry2723/algorithm_s/blob/master/Algo_Recursion.ipynb\" target=\"_parent\"><img src=\"https://colab.research.google.com/assets/colab-badge.svg\" alt=\"Open In Colab\"/></a>"
      ]
    },
    {
      "cell_type": "markdown",
      "metadata": {
        "id": "GjxHPIKaP_1T"
      },
      "source": [
        "# **ALGORITHM - RECURSION 공부**\n",
        "\n",
        "recursion에서 가장 중요한것\n",
        "- base case : recursion의 종료 조건\n",
        "- recursion case :  recursion을 반복하다보면 결국 base case로 수렴해야 함\n",
        "\n",
        " -> Recursion case를 통해 Base case로 수렴되어 종료되어야함!\n",
        "\n",
        "\n",
        "recursion을 수학적 귀납법과 연관시켜서 개념을 이해하는 것도 중요한 것 같다.\n"
      ]
    },
    {
      "cell_type": "markdown",
      "metadata": {
        "id": "9uf8JxZSQ5Hg"
      },
      "source": [
        "**1. Factorial**\n",
        "\n"
      ]
    },
    {
      "cell_type": "code",
      "metadata": {
        "colab": {
          "base_uri": "https://localhost:8080/"
        },
        "id": "IbSs4p2QP8ib",
        "outputId": "2b8a69cf-7f10-4f8f-a3d7-3893aebd7c3a"
      },
      "source": [
        "def fibo(n):\n",
        "  if n==0:    #base case\n",
        "    return 1\n",
        "  else:       #recursion case\n",
        "    return n*fibo(n-1)\n",
        "\n",
        "\n",
        "print(fibo(6))"
      ],
      "execution_count": 1,
      "outputs": [
        {
          "output_type": "stream",
          "text": [
            "720\n"
          ],
          "name": "stdout"
        }
      ]
    },
    {
      "cell_type": "markdown",
      "metadata": {
        "id": "Zdu77TzTROXQ"
      },
      "source": [
        "**2. power caculation**"
      ]
    },
    {
      "cell_type": "code",
      "metadata": {
        "colab": {
          "base_uri": "https://localhost:8080/"
        },
        "id": "WIl-p238ROEC",
        "outputId": "0f4820d3-045e-47ed-bde2-50ec145e6f72"
      },
      "source": [
        "def pow(x,n):\n",
        "  if n==0:\n",
        "    return 1\n",
        "  else:\n",
        "    return x * pow(x,n-1)\n",
        "\n",
        "\n",
        "print(pow(3,4))"
      ],
      "execution_count": 2,
      "outputs": [
        {
          "output_type": "stream",
          "text": [
            "81\n"
          ],
          "name": "stdout"
        }
      ]
    },
    {
      "cell_type": "markdown",
      "metadata": {
        "id": "H2ElhcKRRlm-"
      },
      "source": [
        "**3. fibonacci number**"
      ]
    },
    {
      "cell_type": "code",
      "metadata": {
        "colab": {
          "base_uri": "https://localhost:8080/"
        },
        "id": "frDp4JOvRpTK",
        "outputId": "c9f0d1dd-e264-4bc7-9b3e-1fa305812082"
      },
      "source": [
        "def fib_num(n):\n",
        "  if n == 0:\n",
        "    return 0\n",
        "  elif n == 1:\n",
        "    return 1\n",
        "\n",
        "  ####################################################\n",
        "  # 이렇게 하는 것이 더 짧은 코드!\n",
        "  #\n",
        "  #if n<2:\n",
        "  #  return n\n",
        "  #\n",
        "  ####################################################\n",
        "  \n",
        "  else:\n",
        "    return fib_num(n-1) + fib_num(n-2)\n",
        "\n",
        "\n",
        "print(fib_num(7))"
      ],
      "execution_count": 3,
      "outputs": [
        {
          "output_type": "stream",
          "text": [
            "13\n"
          ],
          "name": "stdout"
        }
      ]
    },
    {
      "cell_type": "markdown",
      "metadata": {
        "id": "vnk5Thq3Rj7D"
      },
      "source": [
        "**4. 최대공약수: Euclid Method**\n",
        "\n",
        "m>=n인 두 양의 정수 m과 n에 대해서 m이 n의 배수이면 gcd(m,n)=n이고 그렇지 않으면 gcd(m,n)=gcd(n,m%n)이다."
      ]
    },
    {
      "cell_type": "code",
      "metadata": {
        "colab": {
          "base_uri": "https://localhost:8080/"
        },
        "id": "b6MSf44QXYJN",
        "outputId": "f406d41b-7d36-4c29-a930-b0bdcf436f5e"
      },
      "source": [
        "def gcd(m,n):\n",
        "  if n>m:\n",
        "    tmp = n\n",
        "    n=m\n",
        "    m=tmp\n",
        "\n",
        "  if m%n==0:\n",
        "    return n\n",
        "  \n",
        "  else:\n",
        "    return gcd(n,m%n)\n",
        "\n",
        "print(gcd(36,48))\n"
      ],
      "execution_count": null,
      "outputs": [
        {
          "output_type": "stream",
          "text": [
            "12\n"
          ],
          "name": "stdout"
        }
      ]
    },
    {
      "cell_type": "code",
      "metadata": {
        "id": "7NAGVAkUd1Uf"
      },
      "source": [
        "def gcd(p,q):\n",
        "  if(q==0):\n",
        "    return p\n",
        "  else:\n",
        "    return gcd(q,p%q)"
      ],
      "execution_count": null,
      "outputs": []
    },
    {
      "cell_type": "markdown",
      "metadata": {
        "id": "gXhg7WJWSoKp"
      },
      "source": [
        "**5. 문자열의 길이 계산**"
      ]
    },
    {
      "cell_type": "code",
      "metadata": {
        "colab": {
          "base_uri": "https://localhost:8080/"
        },
        "id": "pnkmOIyzSrmr",
        "outputId": "7b465436-4b67-4e58-c844-06c1ebdef00e"
      },
      "source": [
        "def length(str):\n",
        "  if str == \"\":\n",
        "    return 0\n",
        "  else:\n",
        "    return 1 + length(str[1:])\n",
        "\n",
        "\n",
        "print(length(\"Hello\"))"
      ],
      "execution_count": 6,
      "outputs": [
        {
          "output_type": "stream",
          "text": [
            "5\n"
          ],
          "name": "stdout"
        }
      ]
    },
    {
      "cell_type": "markdown",
      "metadata": {
        "id": "1HutZHnmTIot"
      },
      "source": [
        "**6. 문자열의 프린트**"
      ]
    },
    {
      "cell_type": "code",
      "metadata": {
        "colab": {
          "base_uri": "https://localhost:8080/"
        },
        "id": "t5d4RxOtTKm8",
        "outputId": "370ab011-2d8f-449d-9f32-89b2c0d680a6"
      },
      "source": [
        "def printS(str):\n",
        "  if str == \"\":\n",
        "    return\n",
        "  else:\n",
        "    print(str[0], end=\"\") #새로운 문법: print시에 개행 없애고 싶을 때\n",
        "    return printS(str[1:])\n",
        "\n",
        "\n",
        "\n",
        "printS(\"Hello\")"
      ],
      "execution_count": 8,
      "outputs": [
        {
          "output_type": "stream",
          "text": [
            "Hello"
          ],
          "name": "stdout"
        }
      ]
    },
    {
      "cell_type": "markdown",
      "metadata": {
        "id": "PUQhuh7MULv0"
      },
      "source": [
        "**7. 문자열을 뒤집어 프린트**"
      ]
    },
    {
      "cell_type": "code",
      "metadata": {
        "colab": {
          "base_uri": "https://localhost:8080/"
        },
        "id": "8X82Of7EUfCK",
        "outputId": "4149c2c0-30a5-43d2-95a8-d60b8f9e658d"
      },
      "source": [
        "def rev(str):\n",
        "  if str == \"\":\n",
        "    return\n",
        "  else:\n",
        "    print(str[-1],end = \"\")\n",
        "    return rev(str[:-1])\n",
        "\n",
        "rev(\"Hello\")"
      ],
      "execution_count": 11,
      "outputs": [
        {
          "output_type": "stream",
          "text": [
            "olleH"
          ],
          "name": "stdout"
        }
      ]
    },
    {
      "cell_type": "markdown",
      "metadata": {
        "id": "nyvgIfriVGw7"
      },
      "source": [
        "**8. 이진수로 변환하여 출력**  \n",
        "  --> 이건 좀 어려웠다...\n",
        "\n",
        "- 마지막에 0 혹은 1만 남으면 그걸 출력해주고\n",
        "- 그 외에는 2로 나눈 나머지만 프린트하고\n",
        "- 중요한건 여기선 return을 안씀\n",
        "  -> 보니까 만약 함수를 먼저 재귀적 호출 후에 그 뒤에 먼가를 해줘야 할 때 (여기선 먼저 mkbin을 불러오고 이후 print 해줌) 그럴때 return을 쓰지 않음.\n",
        "  \n",
        "  왜냐, return을 쓰면 끝나니께"
      ]
    },
    {
      "cell_type": "code",
      "metadata": {
        "colab": {
          "base_uri": "https://localhost:8080/"
        },
        "id": "ihNPvrdFVMpe",
        "outputId": "659730a4-bbf9-4e2d-8b89-ae7802cbb3f6"
      },
      "source": [
        "def mkbin(num):\n",
        "  num = int(num)\n",
        "  if num<2:\n",
        "    print(num , end=\"\")\n",
        "\n",
        "  else:\n",
        "    mkbin(num/2)\n",
        "    print(num%2 , end=\"\")\n",
        "      \n",
        "\n",
        "mkbin(8)"
      ],
      "execution_count": 20,
      "outputs": [
        {
          "output_type": "stream",
          "text": [
            "1000"
          ],
          "name": "stdout"
        }
      ]
    },
    {
      "cell_type": "markdown",
      "metadata": {
        "id": "ccuJAavlYfdf"
      },
      "source": [
        "**9. 배열의 합 구하기**"
      ]
    },
    {
      "cell_type": "code",
      "metadata": {
        "colab": {
          "base_uri": "https://localhost:8080/"
        },
        "id": "ION9GkzQY3JT",
        "outputId": "e26e44e1-4f1b-4c31-88af-1ba0ae5fe6eb"
      },
      "source": [
        "def arr_sum(arr):\n",
        "  if len(arr)==0:\n",
        "    return 0\n",
        "  else:\n",
        "    return arr[0] + arr_sum(arr[1:])\n",
        "\n",
        "arr = [1,2,3,4,5,6,7,8,9]\n",
        "\n",
        "print(arr_sum(arr))"
      ],
      "execution_count": 22,
      "outputs": [
        {
          "output_type": "stream",
          "text": [
            "45\n"
          ],
          "name": "stdout"
        }
      ]
    },
    {
      "cell_type": "markdown",
      "metadata": {
        "id": "C9TYhnGcZYR5"
      },
      "source": [
        " **10. 순차탐색**\n",
        "\n",
        " target을 검색한다. 만약 존재하면 배열 인덱스, 존재하지 않으면 -1을 반환한다."
      ]
    },
    {
      "cell_type": "code",
      "metadata": {
        "colab": {
          "base_uri": "https://localhost:8080/"
        },
        "id": "qzi62xwycJ1L",
        "outputId": "106724fd-91d1-4395-bc7b-36a51f5c68fa"
      },
      "source": [
        "def find(arr,target):\n",
        "  n = len(arr)\n",
        "  if n==0:\n",
        "    return -1\n",
        "\n",
        "  elif arr[n-1] == target:\n",
        "    return n-1\n",
        "\n",
        "  else:\n",
        "    return find(arr[:n-1],target)  # python slicing에선 end는 포함하지 않는다는것을 명심합시다\n",
        "\n",
        "print(find(\"Kimhyunj\",\"d\"))"
      ],
      "execution_count": 24,
      "outputs": [
        {
          "output_type": "stream",
          "text": [
            "-1\n"
          ],
          "name": "stdout"
        }
      ]
    },
    {
      "cell_type": "markdown",
      "metadata": {
        "id": "yM-SLQBLdI4O"
      },
      "source": [
        "**11. 최댓값 찾기**"
      ]
    },
    {
      "cell_type": "code",
      "metadata": {
        "colab": {
          "base_uri": "https://localhost:8080/"
        },
        "id": "y0E1N10odM8e",
        "outputId": "242a0b6b-bec9-4a53-f262-672ca9dca609"
      },
      "source": [
        "def find_max(arr):\n",
        "\n",
        "  if len(arr) == 1:\n",
        "    return arr[0]\n",
        "\n",
        "  else:\n",
        "    max = find_max(arr[1:])\n",
        "    if arr[0]> max:\n",
        "      return arr[0]\n",
        "    else:\n",
        "      return find_max(arr[1:])\n",
        "\n",
        "\n",
        "arr=[0,1,2,4,3,7,6]\n",
        "\n",
        "print(find_max(arr))"
      ],
      "execution_count": 3,
      "outputs": [
        {
          "output_type": "stream",
          "text": [
            "7\n"
          ],
          "name": "stdout"
        }
      ]
    },
    {
      "cell_type": "markdown",
      "metadata": {
        "id": "GButOPfwOHYl"
      },
      "source": [
        "**12. Disjoint Sets**\n",
        "\n",
        " 두 배열에 정수가 정렬되어 저장되어 있을 때, 두 배열의 정수들이 disjoint한지 검사한다."
      ]
    },
    {
      "cell_type": "code",
      "metadata": {
        "colab": {
          "base_uri": "https://localhost:8080/"
        },
        "id": "wlMIUb7EOXZd",
        "outputId": "5559ac89-3c2f-477e-8af0-e2957fb7bf35"
      },
      "source": [
        "def dis(arr1,arr2):\n",
        "  m = len(arr1)\n",
        "  n = len(arr2)\n",
        "  ## 이렇게 하는것 보단 매개변수로 받는것이 더 명시적이고 좋대\n",
        "\n",
        "  if m<1 or n<1:\n",
        "    return True\n",
        "  elif arr1[m-1]==arr2[n-1]:\n",
        "    return False\n",
        "  elif arr1[m-1]>arr2[n-1]:\n",
        "    return dis(arr1[:m-1],arr2)\n",
        "  else:\n",
        "    return dis(arr1,arr2[:n-1])\n",
        "\n",
        "\n",
        "arr1 = [2,5,9,10,11,15]\n",
        "arr2 = [1,7,9,12,14,16]\n",
        "\n",
        "print(dis(arr1,arr2))"
      ],
      "execution_count": 6,
      "outputs": [
        {
          "output_type": "stream",
          "text": [
            "False\n"
          ],
          "name": "stdout"
        }
      ]
    },
    {
      "cell_type": "markdown",
      "metadata": {
        "id": "QX2__uQ7S4Te"
      },
      "source": [
        "**13. 이진 탐색**\n",
        " -> 정렬 된 arr인 경우 반을 뚝 잘라서 비교해서 탐색\n"
      ]
    },
    {
      "cell_type": "code",
      "metadata": {
        "colab": {
          "base_uri": "https://localhost:8080/"
        },
        "id": "NqjXhMVpTJq9",
        "outputId": "89db2504-7a9a-44bf-efe3-031d58e86bbb"
      },
      "source": [
        "def binSearch(arr, target, begin, end):\n",
        "  if begin>end:\n",
        "    return -1\n",
        "  else:\n",
        "    middle = int((begin + end) / 2)\n",
        "    if target == arr[middle]:\n",
        "      return middle\n",
        "\n",
        "    elif target> arr[middle]:\n",
        "      return binSearch(arr, target, middle + 1, end)\n",
        "\n",
        "    else:\n",
        "      return binSearch(arr, target, begin, middle - 1)\n",
        "\n",
        "\n",
        "arr=[1,2,3,4,5,7,9,13,17]\n",
        "print(binSearch(arr, 10, 0, 8))"
      ],
      "execution_count": 10,
      "outputs": [
        {
          "output_type": "stream",
          "text": [
            "-1\n"
          ],
          "name": "stdout"
        }
      ]
    },
    {
      "cell_type": "markdown",
      "metadata": {
        "id": "fpMIrdwkUQ0P"
      },
      "source": [
        "**14. 2-SUM**\n",
        " -> arr에서 합이 k가 되는 쌍이 존재하는지 검사한다. 데이터는 오름차순으로 정렬되어있다고 가정한다.\n",
        " "
      ]
    },
    {
      "cell_type": "code",
      "metadata": {
        "colab": {
          "base_uri": "https://localhost:8080/"
        },
        "id": "mRQjwwbIVgvm",
        "outputId": "7519a046-e308-4062-9b5f-2810b943c965"
      },
      "source": [
        "def twoSum(arr,begin,end,K):\n",
        "  if begin>=end:\n",
        "    return False\n",
        "  else:\n",
        "    if arr[begin] + arr[end] == K:\n",
        "      return True\n",
        "    elif arr[begin] + arr[end] > K:\n",
        "      return twoSum(arr,begin,end-1,K)\n",
        "    else:\n",
        "      return twoSum(arr,begin+1,end,K)\n",
        "\n",
        "\n",
        "arr = [1,2,5,9,10,15,17,20,30]\n",
        "\n",
        "print(twoSum(arr,0, len(arr)-1, 24))"
      ],
      "execution_count": 14,
      "outputs": [
        {
          "output_type": "stream",
          "text": [
            "True\n"
          ],
          "name": "stdout"
        }
      ]
    },
    {
      "cell_type": "markdown",
      "metadata": {
        "id": "-jL82IuDWnIy"
      },
      "source": [
        "**15. Towers of Hanoi**"
      ]
    },
    {
      "cell_type": "code",
      "metadata": {
        "colab": {
          "base_uri": "https://localhost:8080/"
        },
        "id": "t_szSu7GWvPm",
        "outputId": "f441b4d4-b8ba-4c0d-e935-a7e4d744a627"
      },
      "source": [
        "def Hanoi(n):\n",
        "  if n == 1:\n",
        "    return 1\n",
        "  else:\n",
        "    return 1+2*Hanoi(n-1)\n",
        "\n",
        "print(Hanoi(4))"
      ],
      "execution_count": 17,
      "outputs": [
        {
          "output_type": "stream",
          "text": [
            "15\n"
          ],
          "name": "stdout"
        }
      ]
    },
    {
      "cell_type": "markdown",
      "metadata": {
        "id": "x6cOojrSWujV"
      },
      "source": [
        "**16. Maze**"
      ]
    },
    {
      "cell_type": "code",
      "metadata": {
        "colab": {
          "base_uri": "https://localhost:8080/"
        },
        "id": "gMInOT8wXswz",
        "outputId": "94ab48ec-d28d-412b-f516-6c50c173fe1b"
      },
      "source": [
        "# 1. 좌표를 주고 해당 좌표에서 출발하면 출구가 있는지 확인하는 함수\n",
        "#    -> 주의: recursion은 무한루프에 걸리느냐를 꼭 확인하는 것이 중요한데 그냥 visited가 없이 하면 왔다리갔다리 하면서 무한루프 가능.\n",
        "#             그러므로 이미 방문한 위치를 적절히 표시하는 것이 중요\n",
        "\n",
        "N = 8\n",
        "maze= [\n",
        "       [0,0,0,0,0,0,0,1],\n",
        "       [0,1,1,0,1,1,0,1],\n",
        "       [0,0,0,1,0,0,0,1],\n",
        "       [0,1,0,0,1,1,0,0],\n",
        "       [0,1,1,1,0,0,1,1],\n",
        "       [0,1,0,0,0,1,0,1],\n",
        "       [0,0,0,1,0,0,0,1],\n",
        "       [0,1,1,1,0,1,0,0]\n",
        "       ]\n",
        "\n",
        "BLOCKED = 2\n",
        "PATH = 3\n",
        "\n",
        "\n",
        "def findExit(x,y):\n",
        "  if x<0 or y<0 or x>=N or y>=N:\n",
        "    return False\n",
        "  elif maze[x][y] != 0 :\n",
        "    return False\n",
        "  elif x==N-1 and y==N-1:\n",
        "    maze[x][y]=PATH\n",
        "    return True\n",
        "\n",
        "  else:\n",
        "    maze[x][y] = PATH      # visited 표시\n",
        "    \n",
        "    if findExit(x,y+1) or findExit(x+1,y) or findExit(x,y-1) or findExit(x-1,y):\n",
        "      return True\n",
        "    else:\n",
        "      maze[x][y] = BLOCKED\n",
        "      return False\n",
        "\n",
        "print(maze)\n",
        "print(findExit(0,0))\n",
        "print(maze)"
      ],
      "execution_count": 27,
      "outputs": [
        {
          "output_type": "stream",
          "text": [
            "[[0, 0, 0, 0, 0, 0, 0, 1], [0, 1, 1, 0, 1, 1, 0, 1], [0, 0, 0, 1, 0, 0, 0, 1], [0, 1, 0, 0, 1, 1, 0, 0], [0, 1, 1, 1, 0, 0, 1, 1], [0, 1, 0, 0, 0, 1, 0, 1], [0, 0, 0, 1, 0, 0, 0, 1], [0, 1, 1, 1, 0, 1, 0, 0]]\n",
            "True\n",
            "[[3, 2, 2, 2, 2, 2, 2, 1], [3, 1, 1, 2, 1, 1, 2, 1], [3, 2, 2, 1, 2, 2, 2, 1], [3, 1, 2, 2, 1, 1, 2, 2], [3, 1, 1, 1, 0, 0, 1, 1], [3, 1, 3, 3, 3, 1, 0, 1], [3, 3, 3, 1, 3, 3, 3, 1], [0, 1, 1, 1, 0, 1, 3, 3]]\n"
          ],
          "name": "stdout"
        }
      ]
    },
    {
      "cell_type": "markdown",
      "metadata": {
        "id": "ZIM_4Jlwhfv7"
      },
      "source": [
        "**17.Counting Cells in a Blob**"
      ]
    },
    {
      "cell_type": "code",
      "metadata": {
        "id": "4LA9u0vTeZfT"
      },
      "source": [
        ""
      ],
      "execution_count": null,
      "outputs": []
    }
  ]
}
