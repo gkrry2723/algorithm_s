{
  "nbformat": 4,
  "nbformat_minor": 0,
  "metadata": {
    "colab": {
      "name": "Algo_Graph.ipynb",
      "provenance": [],
      "collapsed_sections": [],
      "authorship_tag": "ABX9TyOPmDoBP8reFHFbWG3Ac3ed",
      "include_colab_link": true
    },
    "kernelspec": {
      "name": "python3",
      "display_name": "Python 3"
    }
  },
  "cells": [
    {
      "cell_type": "markdown",
      "metadata": {
        "id": "view-in-github",
        "colab_type": "text"
      },
      "source": [
        "<a href=\"https://colab.research.google.com/github/gkrry2723/algorithm_s/blob/master/Algo_Graph.ipynb\" target=\"_parent\"><img src=\"https://colab.research.google.com/assets/colab-badge.svg\" alt=\"Open In Colab\"/></a>"
      ]
    },
    {
      "cell_type": "markdown",
      "metadata": {
        "id": "RCXeqWj2H4Sl"
      },
      "source": [
        "# **Algorithm 공부 - Graph**\r\n",
        "\r\n",
        "**그래프 요소**\r\n",
        "- V: 노드\r\n",
        "- E: 엣지\r\n",
        "- |V| = n\r\n",
        "- |E| = m -> 최대 (n-1)(n-2)/2\r\n",
        "\r\n",
        "**그래프의 표현**\r\n",
        "- 인접행렬 -> 이걸로 할거임\r\n",
        "- 인접 리스트\r\n",
        "\r\n",
        "\r\n",
        "\r\n"
      ]
    },
    {
      "cell_type": "markdown",
      "metadata": {
        "id": "CELYX3fVIt5M"
      },
      "source": [
        "**1-1. 그래프 순회 - 너비우선순회(BFS)**\r\n",
        "\r\n",
        " 동심원 형태로. 가까운거 다 가고 한 단계 물러서서 또 그 단계 애들 다 출력하고...\r\n",
        " \r\n",
        " 큐를 이용하여 너비우선순회 -> tree 에서 level order traverse와 동일\r\n"
      ]
    },
    {
      "cell_type": "code",
      "metadata": {
        "id": "Efud1md0tJ7_",
        "colab": {
          "base_uri": "https://localhost:8080/"
        },
        "outputId": "17493e38-179e-4bbc-8734-5ffd61f098b3"
      },
      "source": [
        "class Graph:\r\n",
        "  def __init__(self,G):\r\n",
        "    self.G = G\r\n",
        "    self.d = [0 for i in range(len(self.G[0]))]\r\n",
        "    self.py = [[] for i in range(len(self.G[0]))]\r\n",
        "\r\n",
        "\r\n",
        "  def adjacency(self,G, node):\r\n",
        "    adj = []\r\n",
        "    for i in range(len(G[0])):\r\n",
        "      if G[node][i] == 1:\r\n",
        "        adj.append(i)\r\n",
        "    return adj\r\n",
        "\r\n",
        "  #기본 BFS\r\n",
        "  def BFS(self,s = 0):\r\n",
        "    tmpG = self.G.copy()\r\n",
        "    queue = []\r\n",
        "    queue.append(s)\r\n",
        "    \r\n",
        "    for j in range(len(G[0])):\r\n",
        "      tmpG[j][0] = 2\r\n",
        "\r\n",
        "    while len(queue)>0:\r\n",
        "      #맨앞에꺼 pop\r\n",
        "      i = queue.pop(0)\r\n",
        "      print(i, end = \" -> \")\r\n",
        "      \r\n",
        "      #pop한거 인접 push\r\n",
        "      adj = adjacency(tmpG,i)\r\n",
        "      queue = queue + adj\r\n",
        "      \r\n",
        "      #push한거 check 하기\r\n",
        "      for k in range(len(adj)):\r\n",
        "        for j in range(len(tmpG[0])):\r\n",
        "          tmpG[j][adj[k]] = 2\r\n",
        "    print(\"END \")\r\n",
        "\r\n",
        "\r\n",
        "  #최소경로도 찾아주는 BFS    \r\n",
        "  def BFS_with_min(self,s = 0):\r\n",
        "    tmpG = self.G.copy()\r\n",
        "    queue = []\r\n",
        "    queue.append(s)\r\n",
        "    \r\n",
        "    for j in range(len(G[0])):\r\n",
        "      tmpG[j][0] = 2\r\n",
        "\r\n",
        "    while len(queue)>0:\r\n",
        "      #맨앞에꺼 pop\r\n",
        "      i = queue.pop(0)\r\n",
        "      print(i, end = \" -> \")\r\n",
        "      \r\n",
        "      #pop한거 인접 push\r\n",
        "      adj = adjacency(tmpG,i)\r\n",
        "      queue = queue + adj\r\n",
        "\r\n",
        "      #최소길이, 방문체크하기\r\n",
        "      \r\n",
        "      #push한거 check 하기\r\n",
        "      for k in range(len(adj)):\r\n",
        "        for j in range(len(G[0])):\r\n",
        "          tmpG[j][adj[k]] = 2\r\n",
        "        self.d[adj[k]] = self.d[i] + 1\r\n",
        "        self.py[adj[k]].append(i)\r\n",
        "\r\n",
        "    print(\"END \")\r\n",
        "    print(\"시작점에서 각 노드의 거리: \", self.d)\r\n",
        "    print(\"BFS tree를 이루는 직전 노드: \", self.py)\r\n",
        "\r\n",
        "\r\n",
        "  def printPath(self,s,v):\r\n",
        "    if v==s:\r\n",
        "      print(s,end = \" \")\r\n",
        "    elif len(self.py[v])==0:\r\n",
        "      print(\"no path from s to v exist\")\r\n",
        "    else:\r\n",
        "      self.printPath(s,self.py[v][0])\r\n",
        "      print(v, end=\" \")\r\n",
        "\r\n",
        "\r\n",
        "G = [[0, 1, 1, 0, 0, 0, 0, 0],\r\n",
        "     [1, 0, 0, 1, 1, 0, 0, 0],\r\n",
        "     [1, 0, 0, 0, 1, 0, 1, 1],\r\n",
        "     [0, 1, 0, 0, 1, 0, 1, 1],\r\n",
        "     [0, 1, 1, 1, 0, 1, 0, 0],\r\n",
        "     [0, 0, 0, 0, 1, 0, 0, 0],\r\n",
        "     [0, 0, 1, 1, 0, 0, 0, 1],\r\n",
        "     [0, 0, 1, 1, 0, 0, 1, 0]\r\n",
        "     ]\r\n",
        "GG = Graph(G)\r\n",
        "print(GG.d)\r\n",
        "GG.BFS_with_min()\r\n",
        "\r\n",
        "GG.printPath(0,5)\r\n",
        "\r\n",
        "\r\n"
      ],
      "execution_count": 41,
      "outputs": [
        {
          "output_type": "stream",
          "text": [
            "[0, 0, 0, 0, 0, 0, 0, 0]\n",
            "0 -> 1 -> 2 -> 3 -> 4 -> 6 -> 7 -> 5 -> END \n",
            "시작점에서 각 노드의 거리:  [0, 1, 1, 2, 2, 3, 2, 2]\n",
            "BFS tree를 이루는 직전 노드:  [[], [0], [0], [1], [1], [4], [2], [2]]\n",
            "0 1 4 5 "
          ],
          "name": "stdout"
        }
      ]
    },
    {
      "cell_type": "markdown",
      "metadata": {
        "id": "ROR39oDPesH7"
      },
      "source": [
        "**1-2. 그래프 순회 - 깊이 우선 순회(DFS)**\r\n",
        " \r\n",
        " 한 방향으로 최대한 깊게 들어가고, 하면 나와서 그다음 깊이 들어가고,,,\r\n",
        "  - 현재노드 = visited\r\n",
        "  - 인접 노드 중 unvisited 있으면 그 노드 방문\r\n",
        "  - 인접 노드 중 unvisited 없으면 인접노드가 unvisited 나올 때 까지 직전 노드로 돌아간다.\r\n",
        "\r\n",
        "  tree에서 pre, in, post order visit이 DFS"
      ]
    },
    {
      "cell_type": "code",
      "metadata": {
        "colab": {
          "base_uri": "https://localhost:8080/"
        },
        "id": "PCkpFFOobrQ8",
        "outputId": "2d87adc5-3028-4c5d-f0ea-3ef1e44c26da"
      },
      "source": [
        "class Graph:\r\n",
        "  def __init__(self,G):\r\n",
        "    self.G = G\r\n",
        "    self.d = [0 for i in range(len(self.G[0]))]\r\n",
        "    self.py = [[] for i in range(len(self.G[0]))]\r\n",
        "    self.visited = [False for i in range(len(self.G[0]))]\r\n",
        "\r\n",
        "  def adjacency(self,G, node):\r\n",
        "    adj = []\r\n",
        "    for i in range(len(G[0])):\r\n",
        "      if G[node][i] == 1:\r\n",
        "        adj.append(i)\r\n",
        "    return adj\r\n",
        "\r\n",
        "  #기본 BFS\r\n",
        "  def BFS(self,s = 0):\r\n",
        "    tmpG = self.G.copy()\r\n",
        "    queue = []\r\n",
        "    queue.append(s)\r\n",
        "    \r\n",
        "    for j in range(len(G[0])):\r\n",
        "      tmpG[j][0] = 2\r\n",
        "\r\n",
        "    while len(queue)>0:\r\n",
        "      #맨앞에꺼 pop\r\n",
        "      i = queue.pop(0)\r\n",
        "      print(i, end = \" -> \")\r\n",
        "      \r\n",
        "      #pop한거 인접 push\r\n",
        "      adj = self.adjacency(tmpG,i)\r\n",
        "      queue = queue + adj\r\n",
        "      \r\n",
        "      #push한거 check 하기\r\n",
        "      for k in range(len(adj)):\r\n",
        "        for j in range(len(tmpG[0])):\r\n",
        "          tmpG[j][adj[k]] = 2\r\n",
        "    print(\"END \")\r\n",
        "\r\n",
        "\r\n",
        "  #최소경로도 찾아주는 BFS    \r\n",
        "  def BFS_with_min(self,s = 0):\r\n",
        "    tmpG = self.G.copy()\r\n",
        "    queue = []\r\n",
        "    queue.append(s)\r\n",
        "    \r\n",
        "    for j in range(len(G[0])):\r\n",
        "      tmpG[j][0] = 2\r\n",
        "\r\n",
        "    while len(queue)>0:\r\n",
        "      #맨앞에꺼 pop\r\n",
        "      i = queue.pop(0)\r\n",
        "      print(i, end = \" -> \")\r\n",
        "      \r\n",
        "      #pop한거 인접 push\r\n",
        "      adj = self.adjacency(tmpG,i)\r\n",
        "      queue = queue + adj\r\n",
        "\r\n",
        "      #최소길이, 방문체크하기\r\n",
        "      \r\n",
        "      #push한거 check 하기\r\n",
        "      for k in range(len(adj)):\r\n",
        "        for j in range(len(G[0])):\r\n",
        "          tmpG[j][adj[k]] = 2\r\n",
        "        self.d[adj[k]] = self.d[i] + 1\r\n",
        "        self.py[adj[k]].append(i)\r\n",
        "\r\n",
        "    print(\"END \")\r\n",
        "    print(\"시작점에서 각 노드의 거리: \", self.d)\r\n",
        "    print(\"BFS tree를 이루는 직전 노드: \", self.py)\r\n",
        "\r\n",
        "  #BFS_with_min 하고 나서 path 출력\r\n",
        "  def printPath(self,s,v):\r\n",
        "    if v==s:\r\n",
        "      print(s,end = \" \")\r\n",
        "    elif len(self.py[v])==0:\r\n",
        "      print(\"no path from s to v exist\")\r\n",
        "    else:\r\n",
        "      self.printPath(s,self.py[v][0])\r\n",
        "      print(v, end=\" \")\r\n",
        "\r\n",
        "  # 여기서부터 DFS\r\n",
        "  def DFS(self,v):\r\n",
        "    self.visited[v] = True\r\n",
        "    adj = self.adjacency(self.G,v)\r\n",
        "    print(v, end = \" \")\r\n",
        "    for i in range(len(adj)):\r\n",
        "      if self.visited[adj[i]] == False:\r\n",
        "        \r\n",
        "        self.DFS(adj[i])\r\n",
        "        \r\n",
        "    \r\n",
        "\r\n",
        "\r\n",
        "\r\n",
        "G = [[0, 1, 1, 0, 0, 0, 0, 0],\r\n",
        "     [1, 0, 0, 1, 1, 0, 0, 0],\r\n",
        "     [1, 0, 0, 0, 1, 0, 1, 1],\r\n",
        "     [0, 1, 0, 0, 1, 0, 1, 1],\r\n",
        "     [0, 1, 1, 1, 0, 1, 0, 0],\r\n",
        "     [0, 0, 0, 0, 1, 0, 0, 0],\r\n",
        "     [0, 0, 1, 1, 0, 0, 0, 1],\r\n",
        "     [0, 0, 1, 1, 0, 0, 1, 0]\r\n",
        "     ]\r\n",
        "GG = Graph(G)\r\n",
        "#print(GG.d)\r\n",
        "#GG.BFS_with_min()\r\n",
        "GG.DFS(0)\r\n",
        "\r\n",
        "#GG.printPath(0,5)"
      ],
      "execution_count": 55,
      "outputs": [
        {
          "output_type": "stream",
          "text": [
            "0 1 3 4 2 6 7 5 "
          ],
          "name": "stdout"
        }
      ]
    },
    {
      "cell_type": "markdown",
      "metadata": {
        "id": "2MhR1DHEVChG"
      },
      "source": [
        "**2. 최소 신장 트리 - Minimum Spanning Tree (MST)**\r\n",
        "- MST 예시\r\n",
        "  - 입력: n개의 도시, 도시와 도시를 연결하는 비용\r\n",
        "  - 문제: 최소의 비용으로 모든도시들을 연결하게 하여라\r\n",
        "- MST는 n개의 노드, 그 노드들을 잇는 가중치 edge 가 주어지면 가장 weight의 합이 작을 수 있도록 모든 노드를 연결하는 Tree이다.\r\n",
        "- MST 특징\r\n",
        "  - 무방향 가중치 그래프\r\n",
        "  - 각 엣지의 가중치: w(u,v)\r\n",
        "  - T에 속한 에지들에 의해 그래프의 모든 정점이 연결된다.\r\n",
        "  - 가중치의 합이 최소가 된다.\r\n",
        "- MST의 트리의 의미\r\n",
        "  - 싸이클이 없이 연결된 무방향 그래프\r\n",
        "- 가장 유명한 MST 알고리즘\r\n",
        "  - Kruscal's algorithm\r\n",
        "  - Prim's algorithm\r\n",
        "\r\n",
        "- 용어 정리\r\n",
        "  - 엣지는 MST의 부분집합 A에 대해 safe하다\r\n",
        "    - -> A에 대해 해당 edge가 들어가도 MST가 될 경우\r\n",
        "\r\n",
        "\r\n",
        "- **Generic MST 알고리즘:**\r\n",
        "  - 처음에 A: 공집합\r\n",
        "  - A에 safe한 엣지를 찾아 넣는다.\r\n",
        "  - A에 있는 엣지의 개수가 n-1이 될 떄 까지 반복 "
      ]
    },
    {
      "cell_type": "code",
      "metadata": {
        "id": "_tvdAheGwSKP"
      },
      "source": [
        "def MST(G,w):\r\n",
        "  A = []\r\n",
        "  while len(A) < n-1:\r\n",
        "    if safe(u,v):\r\n",
        "      A.append([u,v])\r\n",
        "  return A"
      ],
      "execution_count": null,
      "outputs": []
    },
    {
      "cell_type": "markdown",
      "metadata": {
        "id": "Ijfqt_kvxLXT"
      },
      "source": [
        "**2-1. Kruskal의 알고리즘**\r\n"
      ]
    },
    {
      "cell_type": "code",
      "metadata": {
        "colab": {
          "base_uri": "https://localhost:8080/"
        },
        "id": "77pqZLfuxKjb",
        "outputId": "eccf49b9-e68e-4874-eef8-a85bfdbd91ee"
      },
      "source": [
        "#간선: 0,1- 정점, 2- 가중치\r\n",
        "def kruskal(edge,n):\r\n",
        "  #에지들을 가중치의 오름차순으로 정렬\r\n",
        "  edge.sort(key = lambda x:x[2])\r\n",
        "  \r\n",
        "  #각각의 노드를 하나의 집합들로 표현\r\n",
        "  node = [[i] for i in range(n)]\r\n",
        "  MST = []\r\n",
        "\r\n",
        "  i = 0\r\n",
        "  while len(edge) > i:\r\n",
        "    node1 = edge[i][0]\r\n",
        "    node2 = edge[i][1]\r\n",
        "    place1 = [(i,j) for i in range(len(node)) for j in range(len(node[i])) if node[i][j]==node1]\r\n",
        "    place1 = place1[0]\r\n",
        "    place2 = [(i,j) for i in range(len(node)) for j in range(len(node[i])) if node[i][j]==node2]\r\n",
        "    place2 = place2[0]\r\n",
        "\r\n",
        "    if place1[0] != place2[0]:\r\n",
        "      node[place1[0]] = node[place1[0]]+node[place2[0]]\r\n",
        "      del node[place2[0]]\r\n",
        "      MST.append([node1,node2])\r\n",
        "    i += 1\r\n",
        "  return MST\r\n",
        "\r\n",
        "\r\n",
        "edge = [[0,1,4],\r\n",
        "        [0,7,8],\r\n",
        "        [1,2,8],\r\n",
        "        [1,7,11],\r\n",
        "        [2,3,7],\r\n",
        "        [2,5,4],\r\n",
        "        [2,8,2],\r\n",
        "        [3,4,9],\r\n",
        "        [3,5,14],\r\n",
        "        [4,5,10],\r\n",
        "        [5,6,2],\r\n",
        "        [6,7,1],\r\n",
        "        [6,8,6],\r\n",
        "        [7,8,7]\r\n",
        "        ]\r\n",
        "\r\n",
        "print(kruskal(edge,9))"
      ],
      "execution_count": 64,
      "outputs": [
        {
          "output_type": "stream",
          "text": [
            "[[6, 7], [2, 8], [5, 6], [0, 1], [2, 5], [2, 3], [0, 7], [3, 4]]\n"
          ],
          "name": "stdout"
        }
      ]
    },
    {
      "cell_type": "code",
      "metadata": {
        "colab": {
          "base_uri": "https://localhost:8080/"
        },
        "id": "AiQf0aYuVDBv",
        "outputId": "89d4b4a3-11e9-452f-a410-0bd262ce402d"
      },
      "source": [
        ""
      ],
      "execution_count": 19,
      "outputs": [
        {
          "output_type": "stream",
          "text": [
            "[[5, 6], [2], [3], [4]]\n"
          ],
          "name": "stdout"
        }
      ]
    }
  ]
}