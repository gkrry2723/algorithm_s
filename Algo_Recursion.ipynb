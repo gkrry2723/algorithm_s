{
  "nbformat": 4,
  "nbformat_minor": 0,
  "metadata": {
    "colab": {
      "name": "Algo - Recursion.ipynb",
      "provenance": [],
      "collapsed_sections": [],
      "authorship_tag": "ABX9TyPDeMKxt8GPkYJveB8nqHNk",
      "include_colab_link": true
    },
    "kernelspec": {
      "name": "python3",
      "display_name": "Python 3"
    }
  },
  "cells": [
    {
      "cell_type": "markdown",
      "metadata": {
        "id": "view-in-github",
        "colab_type": "text"
      },
      "source": [
        "<a href=\"https://colab.research.google.com/github/gkrry2723/algorithm_s/blob/master/Algo_Recursion.ipynb\" target=\"_parent\"><img src=\"https://colab.research.google.com/assets/colab-badge.svg\" alt=\"Open In Colab\"/></a>"
      ]
    },
    {
      "cell_type": "markdown",
      "metadata": {
        "id": "GjxHPIKaP_1T"
      },
      "source": [
        "# **ALGORITHM - RECURSION 공부**\n",
        "\n",
        "recursion에서 가장 중요한것\n",
        "- base case : recursion의 종료 조건\n",
        "- recursion case :  recursion을 반복하다보면 결국 base case로 수렴해야 함\n",
        "\n",
        " -> Recursion case를 통해 Base case로 수렴되어 종료되어야함!\n",
        "\n",
        "\n",
        "recursion을 수학적 귀납법과 연관시켜서 개념을 이해하는 것도 중요한 것 같다.\n"
      ]
    },
    {
      "cell_type": "markdown",
      "metadata": {
        "id": "9uf8JxZSQ5Hg"
      },
      "source": [
        "**1. Factorial**\n",
        "\n"
      ]
    },
    {
      "cell_type": "code",
      "metadata": {
        "colab": {
          "base_uri": "https://localhost:8080/"
        },
        "id": "IbSs4p2QP8ib",
        "outputId": "2b8a69cf-7f10-4f8f-a3d7-3893aebd7c3a"
      },
      "source": [
        "def fibo(n):\n",
        "  if n==0:    #base case\n",
        "    return 1\n",
        "  else:       #recursion case\n",
        "    return n*fibo(n-1)\n",
        "\n",
        "\n",
        "print(fibo(6))"
      ],
      "execution_count": null,
      "outputs": [
        {
          "output_type": "stream",
          "text": [
            "720\n"
          ],
          "name": "stdout"
        }
      ]
    },
    {
      "cell_type": "markdown",
      "metadata": {
        "id": "Zdu77TzTROXQ"
      },
      "source": [
        "**2. power caculation**"
      ]
    },
    {
      "cell_type": "code",
      "metadata": {
        "colab": {
          "base_uri": "https://localhost:8080/"
        },
        "id": "WIl-p238ROEC",
        "outputId": "0f4820d3-045e-47ed-bde2-50ec145e6f72"
      },
      "source": [
        "def pow(x,n):\n",
        "  if n==0:\n",
        "    return 1\n",
        "  else:\n",
        "    return x * pow(x,n-1)\n",
        "\n",
        "\n",
        "print(pow(3,4))"
      ],
      "execution_count": null,
      "outputs": [
        {
          "output_type": "stream",
          "text": [
            "81\n"
          ],
          "name": "stdout"
        }
      ]
    },
    {
      "cell_type": "markdown",
      "metadata": {
        "id": "H2ElhcKRRlm-"
      },
      "source": [
        "**3. fibonacci number**"
      ]
    },
    {
      "cell_type": "code",
      "metadata": {
        "colab": {
          "base_uri": "https://localhost:8080/"
        },
        "id": "frDp4JOvRpTK",
        "outputId": "c9f0d1dd-e264-4bc7-9b3e-1fa305812082"
      },
      "source": [
        "def fib_num(n):\n",
        "  if n == 0:\n",
        "    return 0\n",
        "  elif n == 1:\n",
        "    return 1\n",
        "\n",
        "  ####################################################\n",
        "  # 이렇게 하는 것이 더 짧은 코드!\n",
        "  #\n",
        "  #if n<2:\n",
        "  #  return n\n",
        "  #\n",
        "  ####################################################\n",
        "  \n",
        "  else:\n",
        "    return fib_num(n-1) + fib_num(n-2)\n",
        "\n",
        "\n",
        "print(fib_num(7))"
      ],
      "execution_count": null,
      "outputs": [
        {
          "output_type": "stream",
          "text": [
            "13\n"
          ],
          "name": "stdout"
        }
      ]
    },
    {
      "cell_type": "markdown",
      "metadata": {
        "id": "vnk5Thq3Rj7D"
      },
      "source": [
        "**4. 최대공약수: Euclid Method**\n",
        "\n",
        "m>=n인 두 양의 정수 m과 n에 대해서 m이 n의 배수이면 gcd(m,n)=n이고 그렇지 않으면 gcd(m,n)=gcd(n,m%n)이다."
      ]
    },
    {
      "cell_type": "code",
      "metadata": {
        "colab": {
          "base_uri": "https://localhost:8080/"
        },
        "id": "b6MSf44QXYJN",
        "outputId": "f406d41b-7d36-4c29-a930-b0bdcf436f5e"
      },
      "source": [
        "def gcd(m,n):\n",
        "  if n>m:\n",
        "    tmp = n\n",
        "    n=m\n",
        "    m=tmp\n",
        "\n",
        "  if m%n==0:\n",
        "    return n\n",
        "  \n",
        "  else:\n",
        "    return gcd(n,m%n)\n",
        "\n",
        "print(gcd(36,48))\n"
      ],
      "execution_count": null,
      "outputs": [
        {
          "output_type": "stream",
          "text": [
            "12\n"
          ],
          "name": "stdout"
        }
      ]
    },
    {
      "cell_type": "code",
      "metadata": {
        "id": "7NAGVAkUd1Uf"
      },
      "source": [
        "def gcd(p,q):\n",
        "  if(q==0):\n",
        "    return p\n",
        "  else:\n",
        "    return gcd(q,p%q)"
      ],
      "execution_count": null,
      "outputs": []
    },
    {
      "cell_type": "markdown",
      "metadata": {
        "id": "gXhg7WJWSoKp"
      },
      "source": [
        "**5. 문자열의 길이 계산**"
      ]
    },
    {
      "cell_type": "code",
      "metadata": {
        "colab": {
          "base_uri": "https://localhost:8080/"
        },
        "id": "pnkmOIyzSrmr",
        "outputId": "7b465436-4b67-4e58-c844-06c1ebdef00e"
      },
      "source": [
        "def length(str):\n",
        "  if str == \"\":\n",
        "    return 0\n",
        "  else:\n",
        "    return 1 + length(str[1:])\n",
        "\n",
        "\n",
        "print(length(\"Hello\"))"
      ],
      "execution_count": null,
      "outputs": [
        {
          "output_type": "stream",
          "text": [
            "5\n"
          ],
          "name": "stdout"
        }
      ]
    },
    {
      "cell_type": "markdown",
      "metadata": {
        "id": "1HutZHnmTIot"
      },
      "source": [
        "**6. 문자열의 프린트**"
      ]
    },
    {
      "cell_type": "code",
      "metadata": {
        "colab": {
          "base_uri": "https://localhost:8080/"
        },
        "id": "t5d4RxOtTKm8",
        "outputId": "370ab011-2d8f-449d-9f32-89b2c0d680a6"
      },
      "source": [
        "def printS(str):\n",
        "  if str == \"\":\n",
        "    return\n",
        "  else:\n",
        "    print(str[0], end=\"\") #새로운 문법: print시에 개행 없애고 싶을 때\n",
        "    return printS(str[1:])\n",
        "\n",
        "\n",
        "\n",
        "printS(\"Hello\")"
      ],
      "execution_count": null,
      "outputs": [
        {
          "output_type": "stream",
          "text": [
            "Hello"
          ],
          "name": "stdout"
        }
      ]
    },
    {
      "cell_type": "markdown",
      "metadata": {
        "id": "PUQhuh7MULv0"
      },
      "source": [
        "**7. 문자열을 뒤집어 프린트**"
      ]
    },
    {
      "cell_type": "code",
      "metadata": {
        "colab": {
          "base_uri": "https://localhost:8080/"
        },
        "id": "8X82Of7EUfCK",
        "outputId": "4149c2c0-30a5-43d2-95a8-d60b8f9e658d"
      },
      "source": [
        "def rev(str):\n",
        "  if str == \"\":\n",
        "    return\n",
        "  else:\n",
        "    print(str[-1],end = \"\")\n",
        "    return rev(str[:-1])\n",
        "\n",
        "rev(\"Hello\")"
      ],
      "execution_count": null,
      "outputs": [
        {
          "output_type": "stream",
          "text": [
            "olleH"
          ],
          "name": "stdout"
        }
      ]
    },
    {
      "cell_type": "markdown",
      "metadata": {
        "id": "nyvgIfriVGw7"
      },
      "source": [
        "**8. 이진수로 변환하여 출력**  \n",
        "  --> 이건 좀 어려웠다...\n",
        "\n",
        "- 마지막에 0 혹은 1만 남으면 그걸 출력해주고\n",
        "- 그 외에는 2로 나눈 나머지만 프린트하고\n",
        "- 중요한건 여기선 return을 안씀\n",
        "  -> 보니까 만약 함수를 먼저 재귀적 호출 후에 그 뒤에 먼가를 해줘야 할 때 (여기선 먼저 mkbin을 불러오고 이후 print 해줌) 그럴때 return을 쓰지 않음.\n",
        "  \n",
        "  왜냐, return을 쓰면 끝나니께"
      ]
    },
    {
      "cell_type": "code",
      "metadata": {
        "colab": {
          "base_uri": "https://localhost:8080/"
        },
        "id": "ihNPvrdFVMpe",
        "outputId": "659730a4-bbf9-4e2d-8b89-ae7802cbb3f6"
      },
      "source": [
        "def mkbin(num):\n",
        "  num = int(num)\n",
        "  if num<2:\n",
        "    print(num , end=\"\")\n",
        "\n",
        "  else:\n",
        "    mkbin(num/2)\n",
        "    print(num%2 , end=\"\")\n",
        "      \n",
        "\n",
        "mkbin(8)"
      ],
      "execution_count": null,
      "outputs": [
        {
          "output_type": "stream",
          "text": [
            "1000"
          ],
          "name": "stdout"
        }
      ]
    },
    {
      "cell_type": "markdown",
      "metadata": {
        "id": "ccuJAavlYfdf"
      },
      "source": [
        "**9. 배열의 합 구하기**"
      ]
    },
    {
      "cell_type": "code",
      "metadata": {
        "colab": {
          "base_uri": "https://localhost:8080/"
        },
        "id": "ION9GkzQY3JT",
        "outputId": "e26e44e1-4f1b-4c31-88af-1ba0ae5fe6eb"
      },
      "source": [
        "def arr_sum(arr):\n",
        "  if len(arr)==0:\n",
        "    return 0\n",
        "  else:\n",
        "    return arr[0] + arr_sum(arr[1:])\n",
        "\n",
        "arr = [1,2,3,4,5,6,7,8,9]\n",
        "\n",
        "print(arr_sum(arr))"
      ],
      "execution_count": null,
      "outputs": [
        {
          "output_type": "stream",
          "text": [
            "45\n"
          ],
          "name": "stdout"
        }
      ]
    },
    {
      "cell_type": "markdown",
      "metadata": {
        "id": "C9TYhnGcZYR5"
      },
      "source": [
        " **10. 순차탐색**\n",
        "\n",
        " target을 검색한다. 만약 존재하면 배열 인덱스, 존재하지 않으면 -1을 반환한다."
      ]
    },
    {
      "cell_type": "code",
      "metadata": {
        "colab": {
          "base_uri": "https://localhost:8080/"
        },
        "id": "qzi62xwycJ1L",
        "outputId": "106724fd-91d1-4395-bc7b-36a51f5c68fa"
      },
      "source": [
        "def find(arr,target):\n",
        "  n = len(arr)\n",
        "  if n==0:\n",
        "    return -1\n",
        "\n",
        "  elif arr[n-1] == target:\n",
        "    return n-1\n",
        "\n",
        "  else:\n",
        "    return find(arr[:n-1],target)  # python slicing에선 end는 포함하지 않는다는것을 명심합시다\n",
        "\n",
        "print(find(\"Kimhyunj\",\"d\"))"
      ],
      "execution_count": null,
      "outputs": [
        {
          "output_type": "stream",
          "text": [
            "-1\n"
          ],
          "name": "stdout"
        }
      ]
    },
    {
      "cell_type": "markdown",
      "metadata": {
        "id": "yM-SLQBLdI4O"
      },
      "source": [
        "**11. 최댓값 찾기**"
      ]
    },
    {
      "cell_type": "code",
      "metadata": {
        "colab": {
          "base_uri": "https://localhost:8080/"
        },
        "id": "y0E1N10odM8e",
        "outputId": "242a0b6b-bec9-4a53-f262-672ca9dca609"
      },
      "source": [
        "def find_max(arr):\n",
        "\n",
        "  if len(arr) == 1:\n",
        "    return arr[0]\n",
        "\n",
        "  else:\n",
        "    max = find_max(arr[1:])\n",
        "    if arr[0]> max:\n",
        "      return arr[0]\n",
        "    else:\n",
        "      return find_max(arr[1:])\n",
        "\n",
        "\n",
        "arr=[0,1,2,4,3,7,6]\n",
        "\n",
        "print(find_max(arr))"
      ],
      "execution_count": null,
      "outputs": [
        {
          "output_type": "stream",
          "text": [
            "7\n"
          ],
          "name": "stdout"
        }
      ]
    },
    {
      "cell_type": "markdown",
      "metadata": {
        "id": "GButOPfwOHYl"
      },
      "source": [
        "**12. Disjoint Sets**\n",
        "\n",
        " 두 배열에 정수가 정렬되어 저장되어 있을 때, 두 배열의 정수들이 disjoint한지 검사한다."
      ]
    },
    {
      "cell_type": "code",
      "metadata": {
        "colab": {
          "base_uri": "https://localhost:8080/"
        },
        "id": "wlMIUb7EOXZd",
        "outputId": "5559ac89-3c2f-477e-8af0-e2957fb7bf35"
      },
      "source": [
        "def dis(arr1,arr2):\n",
        "  m = len(arr1)\n",
        "  n = len(arr2)\n",
        "  ## 이렇게 하는것 보단 매개변수로 받는것이 더 명시적이고 좋대\n",
        "\n",
        "  if m<1 or n<1:\n",
        "    return True\n",
        "  elif arr1[m-1]==arr2[n-1]:\n",
        "    return False\n",
        "  elif arr1[m-1]>arr2[n-1]:\n",
        "    return dis(arr1[:m-1],arr2)\n",
        "  else:\n",
        "    return dis(arr1,arr2[:n-1])\n",
        "\n",
        "\n",
        "arr1 = [2,5,9,10,11,15]\n",
        "arr2 = [1,7,9,12,14,16]\n",
        "\n",
        "print(dis(arr1,arr2))"
      ],
      "execution_count": null,
      "outputs": [
        {
          "output_type": "stream",
          "text": [
            "False\n"
          ],
          "name": "stdout"
        }
      ]
    },
    {
      "cell_type": "markdown",
      "metadata": {
        "id": "QX2__uQ7S4Te"
      },
      "source": [
        "**13. 이진 탐색**\n",
        " -> 정렬 된 arr인 경우 반을 뚝 잘라서 비교해서 탐색\n"
      ]
    },
    {
      "cell_type": "code",
      "metadata": {
        "colab": {
          "base_uri": "https://localhost:8080/"
        },
        "id": "NqjXhMVpTJq9",
        "outputId": "89db2504-7a9a-44bf-efe3-031d58e86bbb"
      },
      "source": [
        "def binSearch(arr, target, begin, end):\n",
        "  if begin>end:\n",
        "    return -1\n",
        "  else:\n",
        "    middle = int((begin + end) / 2)\n",
        "    if target == arr[middle]:\n",
        "      return middle\n",
        "\n",
        "    elif target> arr[middle]:\n",
        "      return binSearch(arr, target, middle + 1, end)\n",
        "\n",
        "    else:\n",
        "      return binSearch(arr, target, begin, middle - 1)\n",
        "\n",
        "\n",
        "arr=[1,2,3,4,5,7,9,13,17]\n",
        "print(binSearch(arr, 10, 0, 8))"
      ],
      "execution_count": null,
      "outputs": [
        {
          "output_type": "stream",
          "text": [
            "-1\n"
          ],
          "name": "stdout"
        }
      ]
    },
    {
      "cell_type": "markdown",
      "metadata": {
        "id": "fpMIrdwkUQ0P"
      },
      "source": [
        "**14. 2-SUM**\n",
        " -> arr에서 합이 k가 되는 쌍이 존재하는지 검사한다. 데이터는 오름차순으로 정렬되어있다고 가정한다.\n",
        " "
      ]
    },
    {
      "cell_type": "code",
      "metadata": {
        "colab": {
          "base_uri": "https://localhost:8080/"
        },
        "id": "mRQjwwbIVgvm",
        "outputId": "7519a046-e308-4062-9b5f-2810b943c965"
      },
      "source": [
        "def twoSum(arr,begin,end,K):\n",
        "  if begin>=end:\n",
        "    return False\n",
        "  else:\n",
        "    if arr[begin] + arr[end] == K:\n",
        "      return True\n",
        "    elif arr[begin] + arr[end] > K:\n",
        "      return twoSum(arr,begin,end-1,K)\n",
        "    else:\n",
        "      return twoSum(arr,begin+1,end,K)\n",
        "\n",
        "\n",
        "arr = [1,2,5,9,10,15,17,20,30]\n",
        "\n",
        "print(twoSum(arr,0, len(arr)-1, 24))"
      ],
      "execution_count": null,
      "outputs": [
        {
          "output_type": "stream",
          "text": [
            "True\n"
          ],
          "name": "stdout"
        }
      ]
    },
    {
      "cell_type": "markdown",
      "metadata": {
        "id": "-jL82IuDWnIy"
      },
      "source": [
        "**15. Towers of Hanoi**"
      ]
    },
    {
      "cell_type": "code",
      "metadata": {
        "colab": {
          "base_uri": "https://localhost:8080/"
        },
        "id": "t_szSu7GWvPm",
        "outputId": "f441b4d4-b8ba-4c0d-e935-a7e4d744a627"
      },
      "source": [
        "def Hanoi(n):\n",
        "  if n == 1:\n",
        "    return 1\n",
        "  else:\n",
        "    return 1+2*Hanoi(n-1)\n",
        "\n",
        "print(Hanoi(4))"
      ],
      "execution_count": null,
      "outputs": [
        {
          "output_type": "stream",
          "text": [
            "15\n"
          ],
          "name": "stdout"
        }
      ]
    },
    {
      "cell_type": "markdown",
      "metadata": {
        "id": "x6cOojrSWujV"
      },
      "source": [
        "**16. Maze**"
      ]
    },
    {
      "cell_type": "code",
      "metadata": {
        "colab": {
          "base_uri": "https://localhost:8080/"
        },
        "id": "gMInOT8wXswz",
        "outputId": "94ab48ec-d28d-412b-f516-6c50c173fe1b"
      },
      "source": [
        "# 1. 좌표를 주고 해당 좌표에서 출발하면 출구가 있는지 확인하는 함수\n",
        "#    -> 주의: recursion은 무한루프에 걸리느냐를 꼭 확인하는 것이 중요한데 그냥 visited가 없이 하면 왔다리갔다리 하면서 무한루프 가능.\n",
        "#             그러므로 이미 방문한 위치를 적절히 표시하는 것이 중요\n",
        "\n",
        "N = 8\n",
        "maze= [\n",
        "       [0,0,0,0,0,0,0,1],\n",
        "       [0,1,1,0,1,1,0,1],\n",
        "       [0,0,0,1,0,0,0,1],\n",
        "       [0,1,0,0,1,1,0,0],\n",
        "       [0,1,1,1,0,0,1,1],\n",
        "       [0,1,0,0,0,1,0,1],\n",
        "       [0,0,0,1,0,0,0,1],\n",
        "       [0,1,1,1,0,1,0,0]\n",
        "       ]\n",
        "\n",
        "BLOCKED = 2\n",
        "PATH = 3\n",
        "\n",
        "\n",
        "def findExit(x,y):\n",
        "  if x<0 or y<0 or x>=N or y>=N:\n",
        "    return False\n",
        "  elif maze[x][y] != 0 :\n",
        "    return False\n",
        "  elif x==N-1 and y==N-1:\n",
        "    maze[x][y]=PATH\n",
        "    return True\n",
        "\n",
        "  else:\n",
        "    maze[x][y] = PATH      # visited 표시\n",
        "    \n",
        "    if findExit(x,y+1) or findExit(x+1,y) or findExit(x,y-1) or findExit(x-1,y):\n",
        "      return True\n",
        "    else:\n",
        "      maze[x][y] = BLOCKED\n",
        "      return False\n",
        "\n",
        "print(maze)\n",
        "print(findExit(0,0))\n",
        "print(maze)"
      ],
      "execution_count": null,
      "outputs": [
        {
          "output_type": "stream",
          "text": [
            "[[0, 0, 0, 0, 0, 0, 0, 1], [0, 1, 1, 0, 1, 1, 0, 1], [0, 0, 0, 1, 0, 0, 0, 1], [0, 1, 0, 0, 1, 1, 0, 0], [0, 1, 1, 1, 0, 0, 1, 1], [0, 1, 0, 0, 0, 1, 0, 1], [0, 0, 0, 1, 0, 0, 0, 1], [0, 1, 1, 1, 0, 1, 0, 0]]\n",
            "True\n",
            "[[3, 2, 2, 2, 2, 2, 2, 1], [3, 1, 1, 2, 1, 1, 2, 1], [3, 2, 2, 1, 2, 2, 2, 1], [3, 1, 2, 2, 1, 1, 2, 2], [3, 1, 1, 1, 0, 0, 1, 1], [3, 1, 3, 3, 3, 1, 0, 1], [3, 3, 3, 1, 3, 3, 3, 1], [0, 1, 1, 1, 0, 1, 3, 3]]\n"
          ],
          "name": "stdout"
        }
      ]
    },
    {
      "cell_type": "markdown",
      "metadata": {
        "id": "ZIM_4Jlwhfv7"
      },
      "source": [
        "**17.Counting Cells in a Blob**\n",
        "\n",
        " - binary 이미지가 주어짐\n",
        " - 서로 연결(상하좌우, 대각선) 된 image pixel들의 집합을 blob이라고 부름\n",
        " - 입력: image의 한 점의 좌표\n",
        " - 입력으로 주어진 한 점이 속해있는 blob의 크기를 계산하는 것이 목표\n",
        "    (만약 어떤 blob에도 속하지 않는 경우에는 0)"
      ]
    },
    {
      "cell_type": "code",
      "metadata": {
        "id": "4LA9u0vTeZfT",
        "colab": {
          "base_uri": "https://localhost:8080/"
        },
        "outputId": "18de6749-cb0c-4889-a8db-e7c57523e20d"
      },
      "source": [
        "N = 8\n",
        "visited = 2\n",
        "\n",
        "def countBlob(x,y):\n",
        "  if x>=N or y>=N or x<0 or y<0 or image[x][y] != 1:\n",
        "    return 0\n",
        "  \n",
        "  else:\n",
        "    image[x][y] = visited \n",
        "    return countBlob(x+1,y) + countBlob(x,y+1) + countBlob(x-1,y) + countBlob(x,y-1) + countBlob(x+1,y+1) + countBlob(x+1,y-1) + countBlob(x-1,y+1) + countBlob(x-1,y-1) + 1\n",
        "\n",
        "\n",
        "\n",
        "image = [\n",
        "         [1,0,0,0,0,0,0,1],\n",
        "         [0,1,1,0,0,1,0,0],\n",
        "         [1,1,0,0,1,0,1,0],\n",
        "         [0,0,0,0,0,1,0,0],\n",
        "         [0,1,0,1,0,1,0,0],\n",
        "         [0,1,0,1,0,1,0,0],\n",
        "         [1,0,0,0,1,0,0,1],\n",
        "         [0,1,1,0,0,1,1,1]\n",
        "]\n",
        "\n",
        "print(countBlob(0,7))"
      ],
      "execution_count": null,
      "outputs": [
        {
          "output_type": "stream",
          "text": [
            "1\n"
          ],
          "name": "stdout"
        }
      ]
    },
    {
      "cell_type": "markdown",
      "metadata": {
        "id": "JUwv4dZa2IpA"
      },
      "source": [
        "**18. N-Queens**\n",
        " \n",
        "--> 여기서 제일 포인트 : \n",
        "\n",
        "#**BackTracking을 recursive하게 구현!**\n",
        "\n",
        "backtracking이라서 나는 tree를 python으로 구현해야하는 줄 알고 당황했는데\n",
        "tree처럼 구현되는 것이지 tree 자체를 구현할 필요는 없다.\n",
        "\n",
        "level을 input으로 받고 \n",
        "1. 해당 level이 불가?: return false\n",
        "2. 가능하면서 해당 level이 N? : return true -> 종료\n",
        "3. 가능하지만 해당 level != N? : 그 다음 level 탐색.\n",
        "\n",
        "가능한지 여부를 판단하는 함수를 따로 또 만들어야 한다는 점!"
      ]
    },
    {
      "cell_type": "code",
      "metadata": {
        "id": "tXGb0l5d2IJs",
        "colab": {
          "base_uri": "https://localhost:8080/"
        },
        "outputId": "4e5fe8e0-9830-44c6-eac2-3ee178d38270"
      },
      "source": [
        "# 1. 2차원 list(체스판 이라고 생각)만들기 -> 헷갈리지 않게 0열과 0행은 버리기\n",
        "\n",
        "# 2. backtracking 구현\n",
        "\n",
        "def queens(level):\n",
        "  if not promising(level):\n",
        "    return False\n",
        "  elif level == N:\n",
        "    print(cols)\n",
        "    return True\n",
        "  else:\n",
        "    for i in range(1,N+1):\n",
        "      cols[level+1] = i\n",
        "      if queens(level+1):\n",
        "        return True\n",
        "    return False\n",
        "\n",
        "\n",
        "# 3. promising 구현\n",
        "def promising(level):\n",
        "  if level == 0 or level == 1:\n",
        "    return True\n",
        "  else:\n",
        "    for i in range(1,level):\n",
        "      if cols[i] == cols[level] - (level-i) or cols[i] == cols[level] + (level-i) or cols[i] == cols[level] :\n",
        "        return False\n",
        "    return True\n",
        "\n",
        "\n",
        "N=8\n",
        "cols = [0 for i in range(N+1)]\n",
        "\n",
        "print(queens(0))\n",
        "\n"
      ],
      "execution_count": 1,
      "outputs": [
        {
          "output_type": "stream",
          "text": [
            "[0, 1, 5, 8, 6, 3, 7, 2, 4]\n",
            "True\n"
          ],
          "name": "stdout"
        }
      ]
    },
    {
      "cell_type": "markdown",
      "metadata": {
        "id": "72NkNbhumsw7"
      },
      "source": [
        "**19. PowerSet(멱집합)**\n",
        "\n",
        " 임의의 집합의 모든 부분집합 출력하기\n",
        "  --> 해당 내용에서 중요한 것은 계획 단계에서 트리를 만들고, 트리를 실제 구현하는 것이다.\n",
        "\n",
        "  집합을 직접 return 하거나 사용하지 않고, include라는 간단한 boolean으로 표현하는 리스트를 만들어서 집합의 포함 여부를 표현하는 것이 정말 대단한 것 같다."
      ]
    },
    {
      "cell_type": "code",
      "metadata": {
        "colab": {
          "base_uri": "https://localhost:8080/"
        },
        "id": "ATIBs46km0d4",
        "outputId": "f257306f-fa07-43c8-9b19-7c4c92daffba"
      },
      "source": [
        "def powerSet(k):\n",
        "  if k == len(data):\n",
        "    for i in range(0,len(data)):\n",
        "      if include[i]:\n",
        "        print(data[i], end=\" \")\n",
        "    print()\n",
        "    return\n",
        "\n",
        "  else:\n",
        "    include[k] = False\n",
        "    powerSet(k+1)\n",
        "    include[k] = True\n",
        "    powerSet(k+1)\n",
        "\n",
        "\n",
        "data = [\"a\",\"b\",\"c\",\"d\",\"e\",\"f\"]\n",
        "include = [False for i in range(0,len(data))]\n",
        "powerSet(0)\n"
      ],
      "execution_count": 5,
      "outputs": [
        {
          "output_type": "stream",
          "text": [
            "\n",
            "f \n",
            "e \n",
            "e f \n",
            "d \n",
            "d f \n",
            "d e \n",
            "d e f \n",
            "c \n",
            "c f \n",
            "c e \n",
            "c e f \n",
            "c d \n",
            "c d f \n",
            "c d e \n",
            "c d e f \n",
            "b \n",
            "b f \n",
            "b e \n",
            "b e f \n",
            "b d \n",
            "b d f \n",
            "b d e \n",
            "b d e f \n",
            "b c \n",
            "b c f \n",
            "b c e \n",
            "b c e f \n",
            "b c d \n",
            "b c d f \n",
            "b c d e \n",
            "b c d e f \n",
            "a \n",
            "a f \n",
            "a e \n",
            "a e f \n",
            "a d \n",
            "a d f \n",
            "a d e \n",
            "a d e f \n",
            "a c \n",
            "a c f \n",
            "a c e \n",
            "a c e f \n",
            "a c d \n",
            "a c d f \n",
            "a c d e \n",
            "a c d e f \n",
            "a b \n",
            "a b f \n",
            "a b e \n",
            "a b e f \n",
            "a b d \n",
            "a b d f \n",
            "a b d e \n",
            "a b d e f \n",
            "a b c \n",
            "a b c f \n",
            "a b c e \n",
            "a b c e f \n",
            "a b c d \n",
            "a b c d f \n",
            "a b c d e \n",
            "a b c d e f \n"
          ],
          "name": "stdout"
        }
      ]
    }
  ]
}
